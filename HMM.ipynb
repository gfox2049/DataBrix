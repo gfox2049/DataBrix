{
  "nbformat": 4,
  "nbformat_minor": 0,
  "metadata": {
    "colab": {
      "provenance": []
    },
    "kernelspec": {
      "name": "python3",
      "display_name": "Python 3"
    },
    "accelerator": "GPU"
  },
  "cells": [
    {
      "cell_type": "markdown",
      "metadata": {
        "id": "lDJIV2EVBuFZ"
      },
      "source": [
        "# Fun with Hidden Markov Models\n",
        "*by Loren Lugosch*"
      ]
    },
    {
      "cell_type": "markdown",
      "metadata": {
        "id": "_rWFkdjYOlk8"
      },
      "source": [
        "This notebook introduces the Hidden Markov Model (HMM), a simple model for sequential data.\n",
        "\n",
        "We will see:\n",
        "- what an HMM is and when you might want to use it;\n",
        "- the so-called \"three problems\" of an HMM; and \n",
        "- how to implement an HMM in PyTorch.\n",
        "\n",
        "(The code in this notebook can also be found at https://github.com/lorenlugosch/pytorch_HMM.)"
      ]
    },
    {
      "cell_type": "markdown",
      "metadata": {
        "id": "efPPcGy0gP6H"
      },
      "source": [
        "A hypothetical scenario\n",
        "------\n",
        "\n",
        "To motivate the use of HMMs, imagine that you have a friend who gets to do a lot of travelling. Every day, this jet-setting friend sends you a selfie from the city they’re in, to make you envious."
      ]
    },
    {
      "cell_type": "markdown",
      "metadata": {
        "id": "Cs3z7pnVib9g"
      },
      "source": [
        "<center>\n",
        "\n",
        "![Diagram of a traveling friend sending selfies](https://github.com/lorenlugosch/pytorch_HMM/blob/master/img/selfies.png?raw=true)\n",
        "</center>\n",
        "\n",
        "\n",
        "\n"
      ]
    },
    {
      "cell_type": "markdown",
      "metadata": {
        "id": "hTPNK3IjirDA"
      },
      "source": [
        "How would you go about guessing which city the friend is in each day, just by looking at the selfies?\n",
        "\n",
        "If the selfie contains a really obvious landmark, like the Eiffel Tower, it will be easy to figure out where the photo was taken. If not, it will be a lot harder to infer the city.\n",
        "\n",
        "But we have a clue to help us: the city the friend is in each day is not totally random. For example, the friend will probably remain in the same city for a few days to sightsee before flying to a new city."
      ]
    },
    {
      "cell_type": "markdown",
      "metadata": {
        "id": "k4g7IG7CBx-Y"
      },
      "source": [
        "## The HMM setup\n",
        "\n",
        "The hypothetical scenario of the friend travelling between cities and sending you selfies can be modeled using an HMM.\n"
      ]
    },
    {
      "cell_type": "markdown",
      "metadata": {
        "id": "NpwgbDTnRzRa"
      },
      "source": [
        "An HMM models a system that is in a particular state at any given time and produces an output that depends on that state. \n",
        "\n",
        "At each timestep or clock tick, the system randomly decides on a new state and jumps into that state. The system then randomly generates an observation. The states are \"hidden\": we can't observe them. (In the cities/selfies analogy, the unknown cities would be the hidden states, and the selfies would be the observations.)\n",
        "\n",
        "Let's denote the sequence of states as $\\mathbf{z} = \\{z_1, z_2, \\dots, z_T \\}$, where each state is one of a finite set of $N$ states, and the sequence of observations as $\\mathbf{x} = \\{x_1, x_2, \\dots, x_T\\}$. The observations could be discrete, like letters, or real-valued, like audio frames."
      ]
    },
    {
      "cell_type": "markdown",
      "metadata": {
        "id": "uV5fAhEQDAcJ"
      },
      "source": [
        "<center>\n",
        "\n",
        "![Diagram of an HMM for three timesteps](https://github.com/lorenlugosch/pytorch_HMM/blob/master/img/hmm.png?raw=true)\n",
        "</center>"
      ]
    },
    {
      "cell_type": "markdown",
      "metadata": {
        "id": "vMPrA6Uv-u-K"
      },
      "source": [
        "An HMM makes two key assumptions:\n",
        "- **Assumption 1:** The state at time $t$ depends *only* on the state at the previous time $t-1$. \n",
        "- **Assumption 2:** The output at time $t$ depends *only* on the state at time $t$.\n",
        "\n",
        "These two assumptions make it possible to efficiently compute certain quantities that we may be interested in."
      ]
    },
    {
      "cell_type": "markdown",
      "metadata": {
        "id": "mRNhSK7LgEIS"
      },
      "source": [
        "## Components of an HMM\n",
        "An HMM has three sets of trainable parameters.\n",
        "  \n"
      ]
    },
    {
      "cell_type": "markdown",
      "metadata": {
        "id": "7Pu3zm77vXwp"
      },
      "source": [
        "- The **transition model** is a square matrix $A$, where $A_{s, s'}$ represents $p(z_t = s|z_{t-1} = s')$, the probability of jumping from state $s'$ to state $s$. \n",
        "\n",
        "- The **emission model** $b_s(x_t)$ tells us $p(x_t|z_t = s)$, the probability of generating $x_t$ when the system is in state $s$. For discrete observations, which we will use in this notebook, the emission model is just a lookup table, with one row for each state, and one column for each observation. For real-valued observations, it is common to use a Gaussian mixture model or neural network to implement the emission model. \n",
        "\n",
        "- The **state priors** tell us $p(z_1 = s)$, the probability of starting in state $s$. We use $\\pi$ to denote the vector of state priors, so $\\pi_s$ is the state prior for state $s$.\n",
        "\n",
        "Let's program an HMM class in PyTorch."
      ]
    },
    {
      "cell_type": "code",
      "metadata": {
        "id": "aZbW6Pj0og7K"
      },
      "source": [
        "import torch\n",
        "import numpy as np\n",
        "\n",
        "class HMM(torch.nn.Module):\n",
        "  \"\"\"\n",
        "  Hidden Markov Model with discrete observations.\n",
        "  \"\"\"\n",
        "  def __init__(self, M, N):\n",
        "    super(HMM, self).__init__()\n",
        "    self.M = M # number of possible observations\n",
        "    self.N = N # number of states\n",
        "\n",
        "    # A\n",
        "    self.transition_model = TransitionModel(self.N)\n",
        "\n",
        "    # b(x_t)\n",
        "    self.emission_model = EmissionModel(self.N,self.M)\n",
        "\n",
        "    # pi\n",
        "    self.unnormalized_state_priors = torch.nn.Parameter(torch.randn(self.N))\n",
        "\n",
        "    # use the GPU\n",
        "    self.is_cuda = torch.cuda.is_available()\n",
        "    if self.is_cuda: self.cuda()\n",
        "\n",
        "class TransitionModel(torch.nn.Module):\n",
        "  def __init__(self, N):\n",
        "    super(TransitionModel, self).__init__()\n",
        "    self.N = N\n",
        "    self.unnormalized_transition_matrix = torch.nn.Parameter(torch.randn(N,N))\n",
        "\n",
        "class EmissionModel(torch.nn.Module):\n",
        "  def __init__(self, N, M):\n",
        "    super(EmissionModel, self).__init__()\n",
        "    self.N = N\n",
        "    self.M = M\n",
        "    self.unnormalized_emission_matrix = torch.nn.Parameter(torch.randn(N,M))"
      ],
      "execution_count": null,
      "outputs": []
    },
    {
      "cell_type": "markdown",
      "metadata": {
        "id": "eom3ueYtpXGo"
      },
      "source": [
        "To sample from the HMM, we start by picking a random initial state from the state prior distribution.\n",
        "\n",
        "Then, we sample an output from the emission distribution, sample a transition from the transition distribution, and repeat.\n",
        "\n",
        "(Notice that we pass the unnormalized model parameters through a softmax function to make them into probabilities.)\n"
      ]
    },
    {
      "cell_type": "code",
      "metadata": {
        "id": "BpgkwNyVwmyM"
      },
      "source": [
        "def sample(self, T=10):\n",
        "  state_priors = torch.nn.functional.softmax(self.unnormalized_state_priors, dim=0)\n",
        "  transition_matrix = torch.nn.functional.softmax(self.transition_model.unnormalized_transition_matrix, dim=0)\n",
        "  emission_matrix = torch.nn.functional.softmax(self.emission_model.unnormalized_emission_matrix, dim=1)\n",
        "\n",
        "  # sample initial state\n",
        "  z_t = torch.distributions.categorical.Categorical(state_priors).sample().item()\n",
        "  z = []; x = []\n",
        "  z.append(z_t)\n",
        "  for t in range(0,T):\n",
        "    # sample emission\n",
        "    x_t = torch.distributions.categorical.Categorical(emission_matrix[z_t]).sample().item()\n",
        "    x.append(x_t)\n",
        "\n",
        "    # sample transition\n",
        "    z_t = torch.distributions.categorical.Categorical(transition_matrix[:,z_t]).sample().item()\n",
        "    if t < T-1: z.append(z_t)\n",
        "\n",
        "  return x, z\n",
        "\n",
        "# Add the sampling method to our HMM class\n",
        "HMM.sample = sample"
      ],
      "execution_count": null,
      "outputs": []
    },
    {
      "cell_type": "markdown",
      "metadata": {
        "id": "ohsdYScawkRG"
      },
      "source": [
        "Let's try hard-coding an HMM for generating fake words. (We'll also add some helper functions for encoding and decoding strings.)\n",
        "\n",
        "We will assume that the system has one state for generating vowels and one state for generating consonants, and the transition matrix has 0s on the diagonal---in other words, the system cannot stay in the vowel state or the consonant state for one than one timestep; it has to switch.\n",
        "\n",
        "Since we pass the transition matrix through a softmax, to get 0s we set the unnormalized parameter values to $-\\infty$."
      ]
    },
    {
      "cell_type": "code",
      "metadata": {
        "id": "eyR7yv_3sBG3",
        "colab": {
          "base_uri": "https://localhost:8080/"
        },
        "outputId": "123309a6-ad66-4c6d-977a-60e3af957246"
      },
      "source": [
        "import string\n",
        "alphabet = string.ascii_lowercase\n",
        "\n",
        "def encode(s):\n",
        "  \"\"\"\n",
        "  Convert a string into a list of integers\n",
        "  \"\"\"\n",
        "  x = [alphabet.index(ss) for ss in s]\n",
        "  return x\n",
        "\n",
        "def decode(x):\n",
        "  \"\"\"\n",
        "  Convert list of ints to string\n",
        "  \"\"\"\n",
        "  s = \"\".join([alphabet[xx] for xx in x])\n",
        "  return s\n",
        "\n",
        "# Initialize the model\n",
        "model = HMM(M=len(alphabet), N=2) \n",
        "\n",
        "# Hard-wiring the parameters!\n",
        "# Let state 0 = consonant, state 1 = vowel\n",
        "for p in model.parameters():\n",
        "    p.requires_grad = False # needed to do lines below\n",
        "model.unnormalized_state_priors[0] = 0.    # Let's start with a consonant more frequently\n",
        "model.unnormalized_state_priors[1] = -0.5\n",
        "print(\"State priors:\", torch.nn.functional.softmax(model.unnormalized_state_priors, dim=0))\n",
        "\n",
        "# In state 0, only allow consonants; in state 1, only allow vowels\n",
        "vowel_indices = torch.tensor([alphabet.index(letter) for letter in \"aeiou\"])\n",
        "consonant_indices = torch.tensor([alphabet.index(letter) for letter in \"bcdfghjklmnpqrstvwxyz\"])\n",
        "model.emission_model.unnormalized_emission_matrix[0, vowel_indices] = -np.inf\n",
        "model.emission_model.unnormalized_emission_matrix[1, consonant_indices] = -np.inf \n",
        "print(\"Emission matrix:\", torch.nn.functional.softmax(model.emission_model.unnormalized_emission_matrix, dim=1))\n",
        "\n",
        "# Only allow vowel -> consonant and consonant -> vowel\n",
        "model.transition_model.unnormalized_transition_matrix[0,0] = -np.inf  # consonant -> consonant\n",
        "model.transition_model.unnormalized_transition_matrix[0,1] = 0.       # vowel -> consonant\n",
        "model.transition_model.unnormalized_transition_matrix[1,0] = 0.       # consonant -> vowel\n",
        "model.transition_model.unnormalized_transition_matrix[1,1] = -np.inf  # vowel -> vowel\n",
        "print(\"Transition matrix:\", torch.nn.functional.softmax(model.transition_model.unnormalized_transition_matrix, dim=0))\n",
        "\n"
      ],
      "execution_count": null,
      "outputs": [
        {
          "output_type": "stream",
          "text": [
            "State priors: tensor([0.6225, 0.3775], device='cuda:0')\n",
            "Emission matrix: tensor([[0.0000, 0.0806, 0.0055, 0.0652, 0.0000, 0.0105, 0.0746, 0.0384, 0.0000,\n",
            "         0.0255, 0.0142, 0.0375, 0.0166, 0.0548, 0.0000, 0.0790, 0.0237, 0.0151,\n",
            "         0.0629, 0.0349, 0.0000, 0.1072, 0.0155, 0.1230, 0.0579, 0.0574],\n",
            "        [0.2217, 0.0000, 0.0000, 0.0000, 0.1888, 0.0000, 0.0000, 0.0000, 0.1722,\n",
            "         0.0000, 0.0000, 0.0000, 0.0000, 0.0000, 0.0870, 0.0000, 0.0000, 0.0000,\n",
            "         0.0000, 0.0000, 0.3303, 0.0000, 0.0000, 0.0000, 0.0000, 0.0000]],\n",
            "       device='cuda:0')\n",
            "Transition matrix: tensor([[0., 1.],\n",
            "        [1., 0.]], device='cuda:0')\n"
          ],
          "name": "stdout"
        }
      ]
    },
    {
      "cell_type": "markdown",
      "metadata": {
        "id": "KFaYq8jDttmi"
      },
      "source": [
        "Try sampling from our hard-coded model:\n"
      ]
    },
    {
      "cell_type": "code",
      "metadata": {
        "id": "8latFMD7ua0X",
        "colab": {
          "base_uri": "https://localhost:8080/"
        },
        "outputId": "18529d60-cfee-421d-f49d-0fd281420b7b"
      },
      "source": [
        "# Sample some outputs\n",
        "for _ in range(4):\n",
        "  sampled_x, sampled_z = model.sample(T=5)\n",
        "  print(\"x:\", decode(sampled_x))\n",
        "  print(\"z:\", sampled_z)"
      ],
      "execution_count": null,
      "outputs": [
        {
          "output_type": "stream",
          "text": [
            "x: napax\n",
            "z: [0, 1, 0, 1, 0]\n",
            "x: ipoyo\n",
            "z: [1, 0, 1, 0, 1]\n",
            "x: upoye\n",
            "z: [1, 0, 1, 0, 1]\n",
            "x: hihiv\n",
            "z: [0, 1, 0, 1, 0]\n"
          ],
          "name": "stdout"
        }
      ]
    },
    {
      "cell_type": "markdown",
      "metadata": {
        "id": "hKzlTlfRgZod"
      },
      "source": [
        "## The Three Problems\n",
        "\n",
        "In a [classic tutorial](https://www.cs.cmu.edu/~cga/behavior/rabiner1.pdf) on HMMs, Lawrence Rabiner describes \"three problems\" that need to be solved before you can effectively use an HMM. They are:\n",
        "- Problem 1: How do we efficiently compute $p(\\mathbf{x})$?\n",
        "- Problem 2: How do we find the most likely state sequence $\\mathbf{z}$ that could have generated the data? \n",
        "- Problem 3: How do we train the model?\n",
        "\n",
        "In the rest of the notebook, we will see how to solve each problem and implement the solutions in PyTorch."
      ]
    },
    {
      "cell_type": "markdown",
      "metadata": {
        "id": "v_RfIAnmN2RZ"
      },
      "source": [
        "### Problem 1: How do we compute $p(\\mathbf{x})$?"
      ]
    },
    {
      "cell_type": "markdown",
      "metadata": {
        "id": "Z3zUUYH0giKV"
      },
      "source": [
        "\n",
        "#### *Why?*\n",
        "Why might we care about computing $p(\\mathbf{x})$? Here's two reasons.\n",
        "* Given two HMMs, $\\theta_1$ and $\\theta_2$, we can compute the likelihood of some data $\\mathbf{x}$ under each model, $p_{\\theta_1}(\\mathbf{x})$ and $p_{\\theta_2}(\\mathbf{x})$, to decide which model is a better fit to the data. \n",
        "\n",
        "  (For example, given an HMM for English speech and an HMM for French speech, we could compute the likelihood given each model, and pick the model with the higher likelihood to infer whether the person is speaking English or French.)\n",
        "* Being able to compute $p(\\mathbf{x})$ gives us a way to train the model, as we will see later.\n",
        "\n",
        "#### *How?*\n",
        "Given that we want $p(\\mathbf{x})$, how do we compute it?\n",
        "\n",
        "We've assumed that the data is generated by visiting some sequence of states $\\mathbf{z}$ and picking an output $x_t$ for each $z_t$ from the emission distribution $p(x_t|z_t)$. So if we knew $\\mathbf{z}$, then the probability of $\\mathbf{x}$ could be computed as follows:\n",
        "\n",
        "$$p(\\mathbf{x}|\\mathbf{z}) = \\prod_{t} p(x_t|z_t) p(z_t|z_{t-1})$$\n",
        "\n",
        "However, we don't know $\\mathbf{z}$; it's hidden. But we do know the probability of any given $\\mathbf{z}$, independent of what we observe. So we could get the probability of $\\mathbf{x}$ by summing over the different possibilities for $\\mathbf{z}$, like this:\n",
        "\n",
        "$$p(\\mathbf{x}) = \\sum_{\\mathbf{z}} p(\\mathbf{x}|\\mathbf{z}) p(\\mathbf{z}) = \\sum_{\\mathbf{z}} \\prod_{t} p(x_t|z_t) p(z_t|z_{t-1})$$\n",
        "\n",
        "The problem is: if you try to take that sum directly, you will need to compute $N^T$ terms. This is impossible to do for anything but very short sequences. For example, let's say the sequence is of length $T=100$ and there are $N=2$ possible states. Then we would need to check $N^T = 2^{100} \\approx 10^{30}$ different possible state sequences.\n",
        "\n",
        "We need a way to compute $p(\\mathbf{x})$ that doesn't require us to explicitly calculate all $N^T$ terms. For this, we use the forward algorithm."
      ]
    },
    {
      "cell_type": "markdown",
      "metadata": {
        "id": "DrH0YdUAhS6J"
      },
      "source": [
        "________\n",
        "\n",
        "<u><b>The Forward Algorithm</b></u>\n",
        "\n",
        "> for $s=1 \\rightarrow N$:\\\n",
        "> &nbsp;&nbsp;&nbsp;&nbsp;&nbsp;&nbsp;$\\alpha_{s,1} := b_s(x_1) \\cdot \\pi_s$ \n",
        "> \n",
        "> for $t = 2 \\rightarrow T$:\\\n",
        "> &nbsp;&nbsp;&nbsp;&nbsp;&nbsp;&nbsp;for $s = 1 \\rightarrow N$:\\\n",
        "> &nbsp;&nbsp;&nbsp;&nbsp;&nbsp;&nbsp;&nbsp;&nbsp;&nbsp;&nbsp;&nbsp;&nbsp;\n",
        "> $\\alpha_{s,t} := b_s(x_t) \\cdot \\underset{s'}{\\sum} A_{s, s'} \\cdot \\alpha_{s',t-1} $\n",
        "> \n",
        "> $p(\\mathbf{x}) := \\underset{s}{\\sum} \\alpha_{s,T}$\\\n",
        "> return $p(\\mathbf{x})$\n",
        "________\n"
      ]
    },
    {
      "cell_type": "markdown",
      "metadata": {
        "id": "bAdpwRiMn8Vn"
      },
      "source": [
        "The forward algorithm is much faster than enumerating all $N^T$ possible state sequences: it requires only $O(N^2T)$ operations to run, since each step is mostly multiplying the vector of forward variables by the transition matrix. (And very often we can reduce that complexity even further, if the transition matrix is sparse.)\n",
        "\n",
        "There is one practical problem with the forward algorithm as presented above: it is prone to underflow due to multiplying a long chain of small numbers, since probabilities are always between 0 and 1. Instead, let's do everything in the log domain. In the log domain, a multiplication becomes a sum, and a sum becomes a [logsumexp](https://lorenlugosch.github.io/posts/2020/06/logsumexp/).  "
      ]
    },
    {
      "cell_type": "markdown",
      "metadata": {
        "id": "FZ8VsLFxA3iT"
      },
      "source": [
        "________\n",
        "\n",
        "<u><b>The Forward Algorithm (Log Domain)</b></u>\n",
        "\n",
        "> for $s=1 \\rightarrow N$:\\\n",
        "> &nbsp;&nbsp;&nbsp;&nbsp;&nbsp;&nbsp;$\\text{log }\\alpha_{s,1} := \\text{log }b_s(x_1) + \\text{log }\\pi_s$ \n",
        "> \n",
        "> for $t = 2 \\rightarrow T$:\\\n",
        "> &nbsp;&nbsp;&nbsp;&nbsp;&nbsp;&nbsp;for $s = 1 \\rightarrow N$:\\\n",
        "> &nbsp;&nbsp;&nbsp;&nbsp;&nbsp;&nbsp;&nbsp;&nbsp;&nbsp;&nbsp;&nbsp;&nbsp;\n",
        "> $\\text{log }\\alpha_{s,t} := \\text{log }b_s(x_t) +  \\underset{s'}{\\text{logsumexp}} \\left( \\text{log }A_{s, s'} + \\text{log }\\alpha_{s',t-1} \\right)$\n",
        "> \n",
        "> $\\text{log }p(\\mathbf{x}) := \\underset{s}{\\text{logsumexp}} \\left( \\text{log }\\alpha_{s,T} \\right)$\\\n",
        "> return $\\text{log }p(\\mathbf{x})$\n",
        "________"
      ]
    },
    {
      "cell_type": "markdown",
      "metadata": {
        "id": "g55ik6ZCEiJU"
      },
      "source": [
        "Now that we have a numerically stable version of the forward algorithm, let's implement it in PyTorch. "
      ]
    },
    {
      "cell_type": "code",
      "metadata": {
        "id": "3CMdK1EfE1SJ"
      },
      "source": [
        "def HMM_forward(self, x, T):\n",
        "  \"\"\"\n",
        "  x : IntTensor of shape (batch size, T_max)\n",
        "  T : IntTensor of shape (batch size)\n",
        "\n",
        "  Compute log p(x) for each example in the batch.\n",
        "  T = length of each example\n",
        "  \"\"\"\n",
        "  if self.is_cuda:\n",
        "  \tx = x.cuda()\n",
        "  \tT = T.cuda()\n",
        "\n",
        "  batch_size = x.shape[0]; T_max = x.shape[1]\n",
        "  log_state_priors = torch.nn.functional.log_softmax(self.unnormalized_state_priors, dim=0)\n",
        "  log_alpha = torch.zeros(batch_size, T_max, self.N)\n",
        "  if self.is_cuda: log_alpha = log_alpha.cuda()\n",
        "\n",
        "  log_alpha[:, 0, :] = self.emission_model(x[:,0]) + log_state_priors\n",
        "  for t in range(1, T_max):\n",
        "    log_alpha[:, t, :] = self.emission_model(x[:,t]) + self.transition_model(log_alpha[:, t-1, :])\n",
        "\n",
        "  # Select the sum for the final timestep (each x may have different length).\n",
        "  log_sums = log_alpha.logsumexp(dim=2)\n",
        "  log_probs = torch.gather(log_sums, 1, T.view(-1,1) - 1)\n",
        "  return log_probs\n",
        "\n",
        "def emission_model_forward(self, x_t):\n",
        "  log_emission_matrix = torch.nn.functional.log_softmax(self.unnormalized_emission_matrix, dim=1)\n",
        "  out = log_emission_matrix[:, x_t].transpose(0,1)\n",
        "  return out\n",
        "\n",
        "def transition_model_forward(self, log_alpha):\n",
        "  \"\"\"\n",
        "  log_alpha : Tensor of shape (batch size, N)\n",
        "  Multiply previous timestep's alphas by transition matrix (in log domain)\n",
        "  \"\"\"\n",
        "  log_transition_matrix = torch.nn.functional.log_softmax(self.unnormalized_transition_matrix, dim=0)\n",
        "\n",
        "  # Matrix multiplication in the log domain\n",
        "  out = log_domain_matmul(log_transition_matrix, log_alpha.transpose(0,1)).transpose(0,1)\n",
        "  return out\n",
        "\n",
        "def log_domain_matmul(log_A, log_B):\n",
        "\t\"\"\"\n",
        "\tlog_A : m x n\n",
        "\tlog_B : n x p\n",
        "\toutput : m x p matrix\n",
        "\n",
        "\tNormally, a matrix multiplication\n",
        "\tcomputes out_{i,j} = sum_k A_{i,k} x B_{k,j}\n",
        "\n",
        "\tA log domain matrix multiplication\n",
        "\tcomputes out_{i,j} = logsumexp_k log_A_{i,k} + log_B_{k,j}\n",
        "\t\"\"\"\n",
        "\tm = log_A.shape[0]\n",
        "\tn = log_A.shape[1]\n",
        "\tp = log_B.shape[1]\n",
        "\n",
        "\t# log_A_expanded = torch.stack([log_A] * p, dim=2)\n",
        "\t# log_B_expanded = torch.stack([log_B] * m, dim=0)\n",
        "    # fix for PyTorch > 1.5 by egaznep on Github:\n",
        "\tlog_A_expanded = torch.reshape(log_A, (m,n,1))\n",
        "\tlog_B_expanded = torch.reshape(log_B, (1,n,p))\n",
        "\n",
        "\telementwise_sum = log_A_expanded + log_B_expanded\n",
        "\tout = torch.logsumexp(elementwise_sum, dim=1)\n",
        "\n",
        "\treturn out\n",
        "\n",
        "TransitionModel.forward = transition_model_forward\n",
        "EmissionModel.forward = emission_model_forward\n",
        "HMM.forward = HMM_forward"
      ],
      "execution_count": null,
      "outputs": []
    },
    {
      "cell_type": "markdown",
      "metadata": {
        "id": "y-fNnZfqGb1m"
      },
      "source": [
        "Try running the forward algorithm on our vowels/consonants model from before:"
      ]
    },
    {
      "cell_type": "code",
      "metadata": {
        "id": "8rMAmf-UGhbw",
        "colab": {
          "base_uri": "https://localhost:8080/"
        },
        "outputId": "a6b57c5a-2d50-4214-b4ee-3e29a67904b1"
      },
      "source": [
        "x = torch.stack( [torch.tensor(encode(\"cat\"))] )\n",
        "T = torch.tensor([3])\n",
        "print(model.forward(x, T))\n",
        "\n",
        "x = torch.stack( [torch.tensor(encode(\"aba\")), torch.tensor(encode(\"abb\"))] )\n",
        "T = torch.tensor([3,3])\n",
        "print(model.forward(x, T))"
      ],
      "execution_count": null,
      "outputs": [
        {
          "output_type": "stream",
          "text": [
            "tensor([[-10.5390]], device='cuda:0')\n",
            "tensor([[-6.5049],\n",
            "        [   -inf]], device='cuda:0')\n"
          ],
          "name": "stdout"
        }
      ]
    },
    {
      "cell_type": "markdown",
      "metadata": {
        "id": "95TB2gvNHuLn"
      },
      "source": [
        "When using the vowel <-> consonant HMM from above, notice that the forward algorithm returns $-\\infty$ for $\\mathbf{x} = \\text{\"abb\"}$. That's because our transition matrix says the probability of vowel -> vowel and consonant -> consonant is 0, so the probability of $\\text{\"abb\"}$ happening is 0, and thus the log probability is $-\\infty$."
      ]
    },
    {
      "cell_type": "markdown",
      "metadata": {
        "id": "qBCrFobsEM8X"
      },
      "source": [
        "#### *Side note: deriving the forward algorithm*\n",
        "\n",
        "If you're interested in understanding how the forward algorithm actually computes $p(\\mathbf{x})$, read this section; if not, skip to the next part on \"Problem 2\" (finding the most likely state sequence)."
      ]
    },
    {
      "cell_type": "markdown",
      "metadata": {
        "id": "CpHWWKcxhjkx"
      },
      "source": [
        "\n",
        "\n",
        "To derive the forward algorithm, start by deriving the forward variable:\n",
        "\n",
        "$\n",
        "\\begin{align} \n",
        "    \\alpha_{s,t} &= p(x_1, x_2, \\dots, x_t, z_t=s) \\\\\n",
        "     &= p(x_t | x_1, x_2, \\dots, x_{t-1}, z_t = s) \\cdot p(x_1, x_2, \\dots, x_{t-1}, z_t = s)  \\\\ \n",
        "    &= p(x_t | z_t = s) \\cdot p(x_1, x_2, \\dots, x_{t-1}, z_t = s) \\\\\n",
        "    &= p(x_t | z_t = s) \\cdot \\left( \\sum_{s'} p(x_1, x_2, \\dots, x_{t-1}, z_{t-1}=s', z_t = s) \\right)\\\\\n",
        "    &= p(x_t | z_t = s) \\cdot \\left( \\sum_{s'} p(z_t = s | x_1, x_2, \\dots, x_{t-1}, z_{t-1}=s') \\cdot p(x_1, x_2, \\dots, x_{t-1}, z_{t-1}=s') \\right)\\\\\n",
        "    &= \\underbrace{p(x_t | z_t = s)}_{\\text{emission model}} \\cdot \\left( \\sum_{s'} \\underbrace{p(z_t = s | z_{t-1}=s')}_{\\text{transition model}} \\cdot \\underbrace{p(x_1, x_2, \\dots, x_{t-1}, z_{t-1}=s')}_{\\text{forward variable for previous timestep}} \\right)\\\\\n",
        "    &= b_s(x_t) \\cdot \\left( \\sum_{s'} A_{s, s'} \\cdot \\alpha_{s',t-1} \\right)\n",
        "\\end{align}\n",
        "$\n",
        "\n",
        "I'll explain how to get to each line of this equation from the previous line. \n",
        "\n",
        "Line 1 is the definition of the forward variable $\\alpha_{s,t}$.\n",
        "\n",
        "Line 2 is the chain rule ($p(A,B) = p(A|B) \\cdot p(B)$, where $A$ is $x_t$ and $B$ is all the other variables).\n",
        "\n",
        "In Line 3, we apply Assumption 2: the probability of observation $x_t$ depends only on the current state $z_t$.\n",
        "\n",
        "In Line 4, we marginalize over all the possible states in the previous timestep $t-1$.\n",
        "\n",
        "In Line 5, we apply the chain rule again.\n",
        "\n",
        "In Line 6, we apply Assumption 1: the current state depends only on the previous state.\n",
        "\n",
        "In Line 7, we substitute in the emission probability, the transition probability, and the forward variable for the previous timestep, to get the complete recursion."
      ]
    },
    {
      "cell_type": "markdown",
      "metadata": {
        "id": "kh1ovNjWDbIA"
      },
      "source": [
        "The formula above can be used for $t = 2 \\rightarrow T$. At $t=1$, there is no previous state, so instead of the transition matrix $A$, we use the state priors $\\pi$, which tell us the probability of starting in each state. Thus for $t=1$, the forward variables are computed as follows:\n",
        "\n",
        "$$\\begin{align} \n",
        "\\alpha_{s,1} &= p(x_1, z_1=s) \\\\\n",
        "  &= p(x_1 | z_1 = s) \\cdot p(z_1 = s)  \\\\ \n",
        "&= b_s(x_1) \\cdot \\pi_s\n",
        "\\end{align}$$"
      ]
    },
    {
      "cell_type": "markdown",
      "metadata": {
        "id": "RRzSqkRkEWKX"
      },
      "source": [
        "Finally, to compute $p(\\mathbf{x}) = p(x_1, x_2, \\dots, x_T)$, we marginalize over $\\alpha_{s,T}$, the forward variables computed in the last timestep:\n",
        "\n",
        "$$\\begin{align*} \n",
        "p(\\mathbf{x}) &= \\sum_{s} p(x_1, x_2, \\dots, x_T, z_T = s) \\\\ \n",
        "&= \\sum_{s} \\alpha_{s,T}\n",
        "\\end{align*}$$"
      ]
    },
    {
      "cell_type": "markdown",
      "metadata": {
        "id": "qLBU8Iu7I5Tb"
      },
      "source": [
        "You can get from this formulation to the log domain formulation by taking the log of the forward variable, and using these identities:\n",
        "- $\\text{log }(a \\cdot b) = \\text{log }a + \\text{log }b$\n",
        "- $\\text{log }(a + b) = \\text{log }(e^{\\text{log }a} + e^{\\text{log }b}) = \\text{logsumexp}(\\text{log }a, \\text{log }b)$"
      ]
    },
    {
      "cell_type": "markdown",
      "metadata": {
        "id": "bxivzF8hgpiW"
      },
      "source": [
        "### Problem 2: How do we compute $\\underset{\\mathbf{z}}{\\text{argmax }} p(\\mathbf{z}|\\mathbf{x})$?"
      ]
    },
    {
      "cell_type": "markdown",
      "metadata": {
        "id": "c1Kv2yyiN7SX"
      },
      "source": [
        "Given an observation sequence $\\mathbf{x}$, we may want to find the most likely sequence of states that could have generated $\\mathbf{x}$. (Given the sequence of selfies, we want to infer what cities the friend visited.) In other words, we want $\\underset{\\mathbf{z}}{\\text{argmax }} p(\\mathbf{z}|\\mathbf{x})$.\n",
        "\n",
        "We can use Bayes' rule to rewrite this expression:\n",
        "$$\\begin{align*} \n",
        "    \\underset{\\mathbf{z}}{\\text{argmax }} p(\\mathbf{z}|\\mathbf{x}) &= \\underset{\\mathbf{z}}{\\text{argmax }} \\frac{p(\\mathbf{x}|\\mathbf{z}) p(\\mathbf{z})}{p(\\mathbf{x})} \\\\ \n",
        "    &= \\underset{\\mathbf{z}}{\\text{argmax }} p(\\mathbf{x}|\\mathbf{z}) p(\\mathbf{z})\n",
        "\\end{align*}$$\n",
        "\n",
        "Hmm! That last expression, $\\underset{\\mathbf{z}}{\\text{argmax }} p(\\mathbf{x}|\\mathbf{z}) p(\\mathbf{z})$, looks suspiciously similar to the intractable expression we encountered before introducing the forward algorithm, $\\underset{\\mathbf{z}}{\\sum} p(\\mathbf{x}|\\mathbf{z}) p(\\mathbf{z})$.\n",
        "\n",
        "And indeed, just as the intractable *sum* over all $\\mathbf{z}$ can be implemented efficiently using the forward algorithm, so too this intractable *argmax* can be implemented efficiently using a similar divide-and-conquer algorithm: the legendary Viterbi algorithm!"
      ]
    },
    {
      "cell_type": "markdown",
      "metadata": {
        "id": "niKZEX5xWeWR"
      },
      "source": [
        "________\n",
        "\n",
        "<u><b>The Viterbi Algorithm</b></u>\n",
        "\n",
        "> for $s=1 \\rightarrow N$:\\\n",
        "> &nbsp;&nbsp;&nbsp;&nbsp;&nbsp;&nbsp;$\\delta_{s,1} := b_s(x_1) \\cdot \\pi_s$\\\n",
        "> &nbsp;&nbsp;&nbsp;&nbsp;&nbsp;&nbsp;$\\psi_{s,1} := 0$\n",
        ">\n",
        "> for $t = 2 \\rightarrow T$:\\\n",
        "> &nbsp;&nbsp;&nbsp;&nbsp;&nbsp;&nbsp;for $s = 1 \\rightarrow N$:\\\n",
        "> &nbsp;&nbsp;&nbsp;&nbsp;&nbsp;&nbsp;&nbsp;&nbsp;&nbsp;&nbsp;&nbsp;&nbsp;$\\delta_{s,t} := b_s(x_t) \\cdot \\left( \\underset{s'}{\\text{max }} A_{s, s'} \\cdot \\delta_{s',t-1} \\right)$\\\n",
        "&nbsp;&nbsp;&nbsp;&nbsp;&nbsp;&nbsp;&nbsp;&nbsp;&nbsp;&nbsp;&nbsp;&nbsp;$\\psi_{s,t} := \\underset{s'}{\\text{argmax }} A_{s, s'} \\cdot \\delta_{s',t-1}$\n",
        "> \n",
        "> $z_T^* := \\underset{s}{\\text{argmax }} \\delta_{s,T}$\\\n",
        "> for $t = T-1 \\rightarrow 1$:\\\n",
        "&nbsp;&nbsp;&nbsp;&nbsp;&nbsp;&nbsp;$z_{t}^* := \\psi_{z_{t+1}^*,t+1}$\n",
        "> \n",
        "> $\\mathbf{z}^* := \\{z_{1}^*, \\dots, z_{T}^* \\}$\\\n",
        "return $\\mathbf{z}^*$\n",
        "________"
      ]
    },
    {
      "cell_type": "markdown",
      "metadata": {
        "id": "UcHVTCucZV6K"
      },
      "source": [
        "The Viterbi algorithm looks somewhat gnarlier than the forward algorithm, but it is essentially the same algorithm, with two tweaks: 1) instead of taking the sum over previous states, we take the max; and 2) we record the argmax of the previous states in a table, and loop back over this table at the end to get $\\mathbf{z}^*$, the most likely state sequence. (And like the forward algorithm, we should run the Viterbi algorithm in the log domain for better numerical stability.) "
      ]
    },
    {
      "cell_type": "markdown",
      "metadata": {
        "id": "NlN7IY_JZ5A-"
      },
      "source": [
        "Let's add the Viterbi algorithm to our PyTorch model:"
      ]
    },
    {
      "cell_type": "code",
      "metadata": {
        "id": "qeDG8DVmZ-P0"
      },
      "source": [
        "def viterbi(self, x, T):\n",
        "  \"\"\"\n",
        "  x : IntTensor of shape (batch size, T_max)\n",
        "  T : IntTensor of shape (batch size)\n",
        "  Find argmax_z log p(x|z) for each (x) in the batch.\n",
        "  \"\"\"\n",
        "  if self.is_cuda:\n",
        "    x = x.cuda()\n",
        "    T = T.cuda()\n",
        "\n",
        "  batch_size = x.shape[0]; T_max = x.shape[1]\n",
        "  log_state_priors = torch.nn.functional.log_softmax(self.unnormalized_state_priors, dim=0)\n",
        "  log_delta = torch.zeros(batch_size, T_max, self.N).float()\n",
        "  psi = torch.zeros(batch_size, T_max, self.N).long()\n",
        "  if self.is_cuda:\n",
        "    log_delta = log_delta.cuda()\n",
        "    psi = psi.cuda()\n",
        "\n",
        "  log_delta[:, 0, :] = self.emission_model(x[:,0]) + log_state_priors\n",
        "  for t in range(1, T_max):\n",
        "    max_val, argmax_val = self.transition_model.maxmul(log_delta[:, t-1, :])\n",
        "    log_delta[:, t, :] = self.emission_model(x[:,t]) + max_val\n",
        "    psi[:, t, :] = argmax_val\n",
        "\n",
        "  # Get the log probability of the best path\n",
        "  log_max = log_delta.max(dim=2)[0]\n",
        "  best_path_scores = torch.gather(log_max, 1, T.view(-1,1) - 1)\n",
        "\n",
        "  # This next part is a bit tricky to parallelize across the batch,\n",
        "  # so we will do it separately for each example.\n",
        "  z_star = []\n",
        "  for i in range(0, batch_size):\n",
        "    z_star_i = [ log_delta[i, T[i] - 1, :].max(dim=0)[1].item() ]\n",
        "    for t in range(T[i] - 1, 0, -1):\n",
        "      z_t = psi[i, t, z_star_i[0]].item()\n",
        "      z_star_i.insert(0, z_t)\n",
        "\n",
        "    z_star.append(z_star_i)\n",
        "\n",
        "  return z_star, best_path_scores # return both the best path and its log probability\n",
        "\n",
        "def transition_model_maxmul(self, log_alpha):\n",
        "  log_transition_matrix = torch.nn.functional.log_softmax(self.unnormalized_transition_matrix, dim=0)\n",
        "\n",
        "  out1, out2 = maxmul(log_transition_matrix, log_alpha.transpose(0,1))\n",
        "  return out1.transpose(0,1), out2.transpose(0,1)\n",
        "\n",
        "def maxmul(log_A, log_B):\n",
        "\t\"\"\"\n",
        "\tlog_A : m x n\n",
        "\tlog_B : n x p\n",
        "\toutput : m x p matrix\n",
        "\n",
        "\tSimilar to the log domain matrix multiplication,\n",
        "\tthis computes out_{i,j} = max_k log_A_{i,k} + log_B_{k,j}\n",
        "\t\"\"\"\n",
        "\tm = log_A.shape[0]\n",
        "\tn = log_A.shape[1]\n",
        "\tp = log_B.shape[1]\n",
        "\n",
        "\tlog_A_expanded = torch.stack([log_A] * p, dim=2)\n",
        "\tlog_B_expanded = torch.stack([log_B] * m, dim=0)\n",
        "\n",
        "\telementwise_sum = log_A_expanded + log_B_expanded\n",
        "\tout1,out2 = torch.max(elementwise_sum, dim=1)\n",
        "\n",
        "\treturn out1,out2\n",
        "\n",
        "TransitionModel.maxmul = transition_model_maxmul\n",
        "HMM.viterbi = viterbi"
      ],
      "execution_count": null,
      "outputs": []
    },
    {
      "cell_type": "markdown",
      "metadata": {
        "id": "uTGOaeXbaWie"
      },
      "source": [
        "Try running Viterbi on an input sequence, given the vowel/consonant HMM:"
      ]
    },
    {
      "cell_type": "code",
      "metadata": {
        "id": "zeOTbaIMc23d",
        "colab": {
          "base_uri": "https://localhost:8080/"
        },
        "outputId": "d179c535-7b5c-42ea-b348-056b4e7efdd7"
      },
      "source": [
        "x = torch.stack( [torch.tensor(encode(\"aba\")), torch.tensor(encode(\"abb\"))] )\n",
        "T = torch.tensor([3,3])\n",
        "print(model.viterbi(x, T))"
      ],
      "execution_count": null,
      "outputs": [
        {
          "output_type": "stream",
          "text": [
            "([[1, 0, 1], [1, 0, 0]], tensor([[-6.5049],\n",
            "        [   -inf]], device='cuda:0'))\n"
          ],
          "name": "stdout"
        }
      ]
    },
    {
      "cell_type": "markdown",
      "metadata": {
        "id": "fKr8YlafdzBx"
      },
      "source": [
        "For $\\mathbf{x} = \\text{\"aba\"}$, the Viterbi algorithm returns $\\mathbf{z}^* = \\{1,0,1\\}$. This corresponds to \"vowel, consonant, vowel\" according to the way we defined the states above, which is correct for this input sequence. Yay!\n",
        "\n",
        "For $\\mathbf{x} = \\text{\"abb\"}$, the Viterbi algorithm still returns a $\\mathbf{z}^*$, but we know this is gibberish because \"vowel, consonant, consonant\" is impossible under this HMM, and indeed the log probability of this path is $-\\infty$."
      ]
    },
    {
      "cell_type": "markdown",
      "metadata": {
        "id": "nCWw0_WienO_"
      },
      "source": [
        "Let's compare the \"forward score\" (the log probability of all possible paths, returned by the forward algorithm) with the \"Viterbi score\" (the log probability of the maximum likelihood path, returned by the Viterbi algorithm):"
      ]
    },
    {
      "cell_type": "code",
      "metadata": {
        "id": "L9fBOHvdeqWC",
        "colab": {
          "base_uri": "https://localhost:8080/"
        },
        "outputId": "25808413-b061-414b-aa49-c5403be214db"
      },
      "source": [
        "print(model.forward(x, T))\n",
        "print(model.viterbi(x, T)[1])"
      ],
      "execution_count": null,
      "outputs": [
        {
          "output_type": "stream",
          "text": [
            "tensor([[-6.5049],\n",
            "        [   -inf]], device='cuda:0')\n",
            "tensor([[-6.5049],\n",
            "        [   -inf]], device='cuda:0')\n"
          ],
          "name": "stdout"
        }
      ]
    },
    {
      "cell_type": "markdown",
      "metadata": {
        "id": "InF6PJVOfHwH"
      },
      "source": [
        "The two scores are the same! That's because in this instance there is only one possible path through the HMM, so the probability of the most likely path is the same as the sum of the probabilities of all possible paths.\n",
        "\n",
        "In general, though, the forward score and Viterbi score will always be somewhat close. This is because of a property of the $\\text{logsumexp}$ function: $\\text{logsumexp}(\\mathbf{x}) \\approx \\max (\\mathbf{x})$. ($\\text{logsumexp}$ is sometimes referred to as the \"smooth maximum\" function.)"
      ]
    },
    {
      "cell_type": "code",
      "metadata": {
        "id": "x__70tB6gnkF",
        "colab": {
          "base_uri": "https://localhost:8080/"
        },
        "outputId": "e75db689-519f-4208-9238-794a16167224"
      },
      "source": [
        "x = torch.tensor([1., 2., 3.])\n",
        "print(x.max(dim=0)[0])\n",
        "print(x.logsumexp(dim=0))"
      ],
      "execution_count": null,
      "outputs": [
        {
          "output_type": "stream",
          "text": [
            "tensor(3.)\n",
            "tensor(3.4076)\n"
          ],
          "name": "stdout"
        }
      ]
    },
    {
      "cell_type": "markdown",
      "metadata": {
        "id": "SvFtiWhzgy0V"
      },
      "source": [
        "### Problem 3: How do we train the model?\n",
        "\n",
        "\n",
        "\n"
      ]
    },
    {
      "cell_type": "markdown",
      "metadata": {
        "id": "r3JaykRalSBZ"
      },
      "source": [
        "Earlier, we hard-coded an HMM to have certain behavior. What we would like to do instead is have the HMM learn to model the data on its own. And while it is possible to use supervised learning with an HMM (by hard-coding the emission model or the transition model) so that the states have a particular interpretation, the really cool thing about HMMs is that they are naturally unsupervised learners, so they can learn to use their different states to represent different patterns in the data, without the programmer needing to indicate what each state means."
      ]
    },
    {
      "cell_type": "markdown",
      "metadata": {
        "id": "8K471fT4N-PR"
      },
      "source": [
        "Like many machine learning models, an HMM can be trained using maximum likelihood estimation, i.e.:\n",
        "\n",
        "$$\\theta^* = \\underset{\\theta}{\\text{argmin }} -\\sum_{\\mathbf{x}^i}\\text{log }p_{\\theta}(\\mathbf{x}^i)$$\n",
        "\n",
        "where $\\mathbf{x}^1, \\mathbf{x}^2, \\dots$ are training examples. \n",
        "\n",
        "The standard method for doing this is the Expectation-Maximization (EM) algorithm, which for HMMs is also called the \"Baum-Welch\" algorithm. In EM training, we alternate between an \"E-step\", where we estimate the values of the latent variables, and an \"M-step\", where the model parameters are updated given the estimated latent variables. (Think $k$-means, where you guess which cluster each data point belongs to, then reestimate where the clusters are, and repeat.) The EM algorithm has some nice properties: it is guaranteed at each step to decrease the loss function, and the E-step and M-step may have an exact closed form solution, in which case no pesky learning rates are required.\n",
        "\n",
        "But because the HMM forward algorithm is differentiable with respect to all the model parameters, we can also just take advantage of automatic differentiation methods in libraries like PyTorch and try to minimize $-\\text{log }p_{\\theta}(\\mathbf{x})$ directly, by backpropagating through the forward algorithm and running stochastic gradient descent. That means we don't need to write any additional HMM code to implement training: `loss.backward()` is all you need."
      ]
    },
    {
      "cell_type": "markdown",
      "metadata": {
        "id": "aVh0-369qZDC"
      },
      "source": [
        "Here we will implement SGD training for an HMM in PyTorch. First, some helper classes:"
      ]
    },
    {
      "cell_type": "code",
      "metadata": {
        "id": "KqiFobGHwdzc"
      },
      "source": [
        "import torch.utils.data\n",
        "from collections import Counter\n",
        "from sklearn.model_selection import train_test_split\n",
        "\n",
        "class TextDataset(torch.utils.data.Dataset):\n",
        "  def __init__(self, lines):\n",
        "    self.lines = lines # list of strings\n",
        "    collate = Collate() # function for generating a minibatch from strings\n",
        "    self.loader = torch.utils.data.DataLoader(self, batch_size=1024, num_workers=1, shuffle=True, collate_fn=collate)\n",
        "\n",
        "  def __len__(self):\n",
        "    return len(self.lines)\n",
        "\n",
        "  def __getitem__(self, idx):\n",
        "    line = self.lines[idx].lstrip(\" \").rstrip(\"\\n\").rstrip(\" \").rstrip(\"\\n\")\n",
        "    return line\n",
        "\n",
        "class Collate:\n",
        "  def __init__(self):\n",
        "    pass\n",
        "\n",
        "  def __call__(self, batch):\n",
        "    \"\"\"\n",
        "    Returns a minibatch of strings, padded to have the same length.\n",
        "    \"\"\"\n",
        "    x = []\n",
        "    batch_size = len(batch)\n",
        "    for index in range(batch_size):\n",
        "      x_ = batch[index]\n",
        "\n",
        "      # convert letters to integers\n",
        "      x.append(encode(x_))\n",
        "\n",
        "    # pad all sequences with 0 to have same length\n",
        "    x_lengths = [len(x_) for x_ in x]\n",
        "    T = max(x_lengths)\n",
        "    for index in range(batch_size):\n",
        "      x[index] += [0] * (T - len(x[index]))\n",
        "      x[index] = torch.tensor(x[index])\n",
        "\n",
        "    # stack into single tensor\n",
        "    x = torch.stack(x)\n",
        "    x_lengths = torch.tensor(x_lengths)\n",
        "    return (x,x_lengths)"
      ],
      "execution_count": null,
      "outputs": []
    },
    {
      "cell_type": "markdown",
      "metadata": {
        "id": "YpDpwnPnAEA9"
      },
      "source": [
        "Let's load some training/testing data. By default, this will use the unix \"words\" file, but you could also use your own text file."
      ]
    },
    {
      "cell_type": "code",
      "metadata": {
        "id": "52NqFHg8ANsB",
        "colab": {
          "base_uri": "https://localhost:8080/"
        },
        "outputId": "18754e86-1d8c-4e85-a930-827a5d49793d"
      },
      "source": [
        "!wget https://raw.githubusercontent.com/lorenlugosch/pytorch_HMM/master/data/train/training.txt\n",
        "\n",
        "filename = \"training.txt\"\n",
        "\n",
        "with open(filename, \"r\") as f:\n",
        "  lines = f.readlines() # each line of lines will have one word\n",
        "\n",
        "alphabet = list(Counter((\"\".join(lines))).keys())\n",
        "train_lines, valid_lines = train_test_split(lines, test_size=0.1, random_state=42)\n",
        "train_dataset = TextDataset(train_lines)\n",
        "valid_dataset = TextDataset(valid_lines)\n",
        "\n",
        "M = len(alphabet)"
      ],
      "execution_count": null,
      "outputs": [
        {
          "output_type": "stream",
          "text": [
            "--2021-03-20 18:38:40--  https://raw.githubusercontent.com/lorenlugosch/pytorch_HMM/master/data/train/training.txt\n",
            "Resolving raw.githubusercontent.com (raw.githubusercontent.com)... 185.199.111.133, 185.199.110.133, 185.199.108.133, ...\n",
            "Connecting to raw.githubusercontent.com (raw.githubusercontent.com)|185.199.111.133|:443... connected.\n",
            "HTTP request sent, awaiting response... 200 OK\n",
            "Length: 2493109 (2.4M) [text/plain]\n",
            "Saving to: ‘training.txt’\n",
            "\n",
            "training.txt        100%[===================>]   2.38M  --.-KB/s    in 0.02s   \n",
            "\n",
            "2021-03-20 18:38:40 (102 MB/s) - ‘training.txt’ saved [2493109/2493109]\n",
            "\n"
          ],
          "name": "stdout"
        }
      ]
    },
    {
      "cell_type": "markdown",
      "metadata": {
        "id": "H0AqmyrK7IUn"
      },
      "source": [
        "We will use a Trainer class for training and testing the model:\n",
        "\n"
      ]
    },
    {
      "cell_type": "code",
      "metadata": {
        "id": "iypy_neX9cpq"
      },
      "source": [
        "from tqdm import tqdm # for displaying progress bar\n",
        "\n",
        "class Trainer:\n",
        "  def __init__(self, model, lr):\n",
        "    self.model = model\n",
        "    self.lr = lr\n",
        "    self.optimizer = torch.optim.Adam(model.parameters(), lr=self.lr, weight_decay=0.00001)\n",
        "  \n",
        "  def train(self, dataset):\n",
        "    train_loss = 0\n",
        "    num_samples = 0\n",
        "    self.model.train()\n",
        "    print_interval = 50\n",
        "    for idx, batch in enumerate(tqdm(dataset.loader)):\n",
        "      x,T = batch\n",
        "      batch_size = len(x)\n",
        "      num_samples += batch_size\n",
        "      log_probs = self.model(x,T)\n",
        "      loss = -log_probs.mean()\n",
        "      self.optimizer.zero_grad()\n",
        "      loss.backward()\n",
        "      self.optimizer.step()\n",
        "      train_loss += loss.cpu().data.numpy().item() * batch_size\n",
        "      if idx % print_interval == 0:\n",
        "        print(\"loss:\", loss.item())\n",
        "        for _ in range(5):\n",
        "          sampled_x, sampled_z = self.model.sample()\n",
        "          print(decode(sampled_x))\n",
        "          print(sampled_z)\n",
        "    train_loss /= num_samples\n",
        "    return train_loss\n",
        "\n",
        "  def test(self, dataset):\n",
        "    test_loss = 0\n",
        "    num_samples = 0\n",
        "    self.model.eval()\n",
        "    print_interval = 50\n",
        "    for idx, batch in enumerate(dataset.loader):\n",
        "      x,T = batch\n",
        "      batch_size = len(x)\n",
        "      num_samples += batch_size\n",
        "      log_probs = self.model(x,T)\n",
        "      loss = -log_probs.mean()\n",
        "      test_loss += loss.cpu().data.numpy().item() * batch_size\n",
        "      if idx % print_interval == 0:\n",
        "        print(\"loss:\", loss.item())\n",
        "        sampled_x, sampled_z = self.model.sample()\n",
        "        print(decode(sampled_x))\n",
        "        print(sampled_z)\n",
        "    test_loss /= num_samples\n",
        "    return test_loss"
      ],
      "execution_count": null,
      "outputs": []
    },
    {
      "cell_type": "markdown",
      "metadata": {
        "id": "mUR8qbHm9dMg"
      },
      "source": [
        "Finally, initialize the model and run the main training loop. Every 50 batches, the code will produce a few samples from the model. Over time, these samples should look more and more realistic."
      ]
    },
    {
      "cell_type": "code",
      "metadata": {
        "id": "1-NGIK1Q9g2C",
        "colab": {
          "base_uri": "https://localhost:8080/"
        },
        "outputId": "71b7ed8f-e021-41f1-c043-cadcb3df8b07"
      },
      "source": [
        "# Initialize model\n",
        "model = HMM(N=64, M=M)\n",
        "\n",
        "# Train the model\n",
        "num_epochs = 10\n",
        "trainer = Trainer(model, lr=0.01)\n",
        "\n",
        "for epoch in range(num_epochs):\n",
        "        print(\"========= Epoch %d of %d =========\" % (epoch+1, num_epochs))\n",
        "        train_loss = trainer.train(train_dataset)\n",
        "        valid_loss = trainer.test(valid_dataset)\n",
        "\n",
        "        print(\"========= Results: epoch %d of %d =========\" % (epoch+1, num_epochs))\n",
        "        print(\"train loss: %.2f| valid loss: %.2f\\n\" % (train_loss, valid_loss) )"
      ],
      "execution_count": null,
      "outputs": [
        {
          "output_type": "stream",
          "text": [
            "\r  0%|          | 0/208 [00:00<?, ?it/s]"
          ],
          "name": "stderr"
        },
        {
          "output_type": "stream",
          "text": [
            "========= Epoch 1 of 10 =========\n"
          ],
          "name": "stdout"
        },
        {
          "output_type": "stream",
          "text": [
            "  1%|▏         | 3/208 [00:00<00:49,  4.10it/s]"
          ],
          "name": "stderr"
        },
        {
          "output_type": "stream",
          "text": [
            "loss: 38.27830505371094\n",
            "pXTePbVjYF\n",
            "[41, 61, 20, 23, 1, 29, 18, 14, 24, 24]\n",
            "LuunvHIuqX\n",
            "[56, 36, 38, 49, 19, 2, 23, 45, 4, 3]\n",
            "bYhujZXBL\n",
            "\n",
            "[55, 55, 49, 39, 4, 15, 57, 23, 52, 53]\n",
            "FdUCylApst\n",
            "[34, 40, 36, 27, 26, 44, 53, 56, 26, 46]\n",
            "FtyJoeDVk\n",
            "\n",
            "[34, 23, 20, 61, 6, 51, 8, 13, 34, 26]\n"
          ],
          "name": "stdout"
        },
        {
          "output_type": "stream",
          "text": [
            " 25%|██▌       | 53/208 [00:03<00:10, 14.48it/s]"
          ],
          "name": "stderr"
        },
        {
          "output_type": "stream",
          "text": [
            "loss: 33.30974578857422\n",
            "lTsYD\n",
            "ntNj\n",
            "[34, 18, 44, 31, 39, 60, 21, 19, 10, 19]\n",
            "gwgHosQkqc\n",
            "[34, 31, 59, 19, 45, 4, 13, 63, 28, 10]\n",
            "sImtUHnn\n",
            "e\n",
            "[6, 28, 37, 45, 27, 56, 38, 3, 9, 54]\n",
            "rrgClNlKsr\n",
            "[43, 49, 15, 12, 45, 1, 44, 53, 2, 63]\n",
            "eXaPznhikV\n",
            "[41, 42, 12, 51, 14, 1, 41, 37, 43, 15]\n"
          ],
          "name": "stdout"
        },
        {
          "output_type": "stream",
          "text": [
            " 50%|████▉     | 103/208 [00:07<00:07, 14.90it/s]"
          ],
          "name": "stderr"
        },
        {
          "output_type": "stream",
          "text": [
            "loss: 30.279699325561523\n",
            "VdostoateO\n",
            "[11, 0, 12, 14, 19, 28, 23, 62, 43, 60]\n",
            "siiAilJnXc\n",
            "[37, 52, 19, 37, 54, 44, 43, 48, 21, 61]\n",
            "moeddnaoyw\n",
            "[44, 14, 21, 37, 37, 45, 54, 50, 14, 31]\n",
            "ltp-iangtI\n",
            "[56, 14, 30, 9, 45, 54, 11, 15, 16, 19]\n",
            "mjqratgtpr\n",
            "[37, 61, 55, 49, 29, 48, 44, 35, 62, 44]\n"
          ],
          "name": "stdout"
        },
        {
          "output_type": "stream",
          "text": [
            " 74%|███████▎  | 153/208 [00:10<00:03, 14.67it/s]"
          ],
          "name": "stderr"
        },
        {
          "output_type": "stream",
          "text": [
            "loss: 28.56381607055664\n",
            "oropeudous\n",
            "[45, 14, 52, 56, 52, 49, 37, 52, 44, 14]\n",
            "bltfbwikte\n",
            "[56, 29, 13, 42, 38, 53, 61, 51, 14, 52]\n",
            "TnDomoiibo\n",
            "[19, 21, 45, 44, 44, 53, 61, 24, 56, 59]\n",
            "niisehoLtL\n",
            "[38, 54, 19, 60, 50, 49, 39, 6, 23, 52]\n",
            "cstoeGebec\n",
            "[33, 54, 23, 52, 29, 13, 52, 56, 52, 45]\n"
          ],
          "name": "stdout"
        },
        {
          "output_type": "stream",
          "text": [
            " 98%|█████████▊| 203/208 [00:13<00:00, 14.73it/s]"
          ],
          "name": "stderr"
        },
        {
          "output_type": "stream",
          "text": [
            "loss: 26.615825653076172\n",
            "-ibBiNplii\n",
            "[25, 61, 60, 23, 61, 60, 56, 49, 61, 56]\n",
            "eKteaeraei\n",
            "[8, 44, 23, 50, 21, 50, 37, 52, 56, 59]\n",
            "mafkfibjta\n",
            "[20, 29, 35, 57, 20, 52, 56, 52, 62, 29]\n",
            "unJhevRlcu\n",
            "[42, 21, 48, 9, 61, 40, 50, 14, 45, 39]\n",
            "uoryatidol\n",
            "[34, 44, 14, 61, 29, 23, 61, 48, 28, 58]\n"
          ],
          "name": "stdout"
        },
        {
          "output_type": "stream",
          "text": [
            "100%|██████████| 208/208 [00:13<00:00, 14.91it/s]\n"
          ],
          "name": "stderr"
        },
        {
          "output_type": "stream",
          "text": [
            "loss: 26.30190658569336\n",
            "wusstetiNr\n",
            "[25, 39, 60, 32, 23, 52, 18, 59, 24, 45]\n"
          ],
          "name": "stdout"
        },
        {
          "output_type": "stream",
          "text": [
            "\r  0%|          | 0/208 [00:00<?, ?it/s]"
          ],
          "name": "stderr"
        },
        {
          "output_type": "stream",
          "text": [
            "========= Results: epoch 1 of 10 =========\n",
            "train loss: 30.75| valid loss: 26.34\n",
            "\n",
            "========= Epoch 2 of 10 =========\n"
          ],
          "name": "stdout"
        },
        {
          "output_type": "stream",
          "text": [
            "  1%|▏         | 3/208 [00:00<00:44,  4.58it/s]"
          ],
          "name": "stderr"
        },
        {
          "output_type": "stream",
          "text": [
            "loss: 26.122982025146484\n",
            "undaiqirii\n",
            "[42, 21, 48, 14, 59, 14, 59, 14, 59, 19]\n",
            "rtpsernaim\n",
            "[56, 14, 61, 32, 13, 42, 21, 48, 59, 37]\n",
            "oedsKinide\n",
            "[1, 52, 35, 54, 16, 61, 21, 61, 48, 50]\n",
            "cydeneison\n",
            "[48, 52, 40, 50, 21, 52, 19, 32, 59, 21]\n",
            "dusttMlyet\n",
            "[31, 39, 60, 23, 45, 63, 43, 14, 52, 23]\n"
          ],
          "name": "stdout"
        },
        {
          "output_type": "stream",
          "text": [
            " 25%|██▌       | 53/208 [00:03<00:10, 14.94it/s]"
          ],
          "name": "stderr"
        },
        {
          "output_type": "stream",
          "text": [
            "loss: 25.615436553955078\n",
            "bedisYmasu\n",
            "[37, 50, 37, 61, 60, 32, 33, 29, 45, 39]\n",
            "hiSncratrb\n",
            "[9, 59, 47, 21, 11, 49, 29, 23, 35, 53]\n",
            "pricuuriss\n",
            "[56, 9, 19, 60, 34, 39, 37, 19, 60, 32]\n",
            "Loiptikenb\n",
            "[12, 52, 54, 3, 23, 61, 48, 50, 21, 27]\n",
            "carcomaepo\n",
            "[11, 59, 21, 37, 52, 60, 23, 52, 56, 59]\n"
          ],
          "name": "stdout"
        },
        {
          "output_type": "stream",
          "text": [
            " 50%|████▉     | 103/208 [00:06<00:06, 15.11it/s]"
          ],
          "name": "stderr"
        },
        {
          "output_type": "stream",
          "text": [
            "loss: 24.506874084472656\n",
            "untirtinra\n",
            "[42, 21, 48, 19, 21, 48, 61, 11, 9, 29]\n",
            "macdestior\n",
            "[20, 29, 35, 48, 50, 43, 48, 19, 45, 21]\n",
            "dptodingis\n",
            "[37, 3, 23, 52, 48, 19, 21, 22, 61, 60]\n",
            "pdliseenno\n",
            "[56, 44, 53, 61, 60, 32, 50, 43, 21, 52]\n",
            "urLlhsumil\n",
            "[42, 21, 61, 48, 9, 31, 39, 37, 61, 58]\n"
          ],
          "name": "stdout"
        },
        {
          "output_type": "stream",
          "text": [
            " 74%|███████▎  | 153/208 [00:10<00:03, 14.25it/s]"
          ],
          "name": "stderr"
        },
        {
          "output_type": "stream",
          "text": [
            "loss: 24.405460357666016\n",
            "inthtemlis\n",
            "[42, 21, 48, 49, 45, 50, 37, 17, 61, 60]\n",
            "rterideran\n",
            "[14, 8, 52, 37, 61, 48, 50, 14, 29, 21]\n",
            "ipimufferu\n",
            "[19, 12, 59, 37, 61, 58, 57, 52, 14, 61]\n",
            "pracansing\n",
            "[56, 14, 52, 34, 54, 43, 32, 19, 21, 48]\n",
            "sermyssuae\n",
            "[56, 50, 43, 37, 61, 60, 31, 39, 14, 52]\n"
          ],
          "name": "stdout"
        },
        {
          "output_type": "stream",
          "text": [
            " 98%|█████████▊| 203/208 [00:13<00:00, 14.90it/s]"
          ],
          "name": "stderr"
        },
        {
          "output_type": "stream",
          "text": [
            "loss: 24.571157455444336\n",
            "diniainiWs\n",
            "[48, 61, 56, 61, 29, 35, 48, 61, 60, 32]\n",
            "rydepreken\n",
            "[14, 52, 48, 52, 56, 14, 52, 22, 50, 21]\n",
            "catheallon\n",
            "[11, 29, 23, 9, 59, 29, 35, 53, 52, 21]\n",
            "dusmotiona\n",
            "[31, 39, 60, 23, 59, 23, 19, 45, 21, 54]\n",
            "teagenybaa\n",
            "[56, 59, 29, 26, 50, 14, 52, 56, 29, 19]\n"
          ],
          "name": "stdout"
        },
        {
          "output_type": "stream",
          "text": [
            "100%|██████████| 208/208 [00:13<00:00, 15.03it/s]\n"
          ],
          "name": "stderr"
        },
        {
          "output_type": "stream",
          "text": [
            "loss: 24.482282638549805\n",
            "parsealogi\n",
            "[56, 50, 21, 23, 52, 29, 53, 52, 22, 61]\n"
          ],
          "name": "stdout"
        },
        {
          "output_type": "stream",
          "text": [
            "\r  0%|          | 0/208 [00:00<?, ?it/s]"
          ],
          "name": "stderr"
        },
        {
          "output_type": "stream",
          "text": [
            "========= Results: epoch 2 of 10 =========\n",
            "train loss: 25.03| valid loss: 24.38\n",
            "\n",
            "========= Epoch 3 of 10 =========\n"
          ],
          "name": "stdout"
        },
        {
          "output_type": "stream",
          "text": [
            "  1%|▏         | 3/208 [00:00<00:43,  4.69it/s]"
          ],
          "name": "stderr"
        },
        {
          "output_type": "stream",
          "text": [
            "loss: 24.47772216796875\n",
            "Didanidive\n",
            "[12, 19, 48, 59, 37, 61, 48, 61, 40, 50]\n",
            "ledspEulli\n",
            "[56, 50, 21, 60, 32, 39, 39, 3, 53, 61]\n",
            "setontetil\n",
            "[20, 59, 23, 59, 21, 48, 50, 23, 61, 21]\n",
            "croosxaunc\n",
            "[56, 14, 45, 39, 60, 23, 59, 42, 21, 11]\n",
            "phoousyycf\n",
            "[56, 9, 52, 45, 39, 60, 9, 52, 11, 62]\n"
          ],
          "name": "stdout"
        },
        {
          "output_type": "stream",
          "text": [
            " 25%|██▌       | 53/208 [00:03<00:10, 14.75it/s]"
          ],
          "name": "stderr"
        },
        {
          "output_type": "stream",
          "text": [
            "loss: 23.98973274230957\n",
            "megleraldh\n",
            "[20, 52, 22, 53, 52, 14, 29, 35, 48, 9]\n",
            "unrphygnRt\n",
            "[42, 21, 43, 32, 9, 52, 22, 53, 61, 58]\n",
            "urtiatudic\n",
            "[42, 21, 23, 61, 29, 23, 59, 37, 61, 11]\n",
            "aochantere\n",
            "[37, 52, 11, 9, 59, 21, 48, 50, 21, 42]\n",
            "apkhyonvTn\n",
            "[54, 3, 23, 9, 52, 59, 21, 40, 50, 53]\n"
          ],
          "name": "stdout"
        },
        {
          "output_type": "stream",
          "text": [
            " 50%|████▉     | 103/208 [00:07<00:07, 14.89it/s]"
          ],
          "name": "stderr"
        },
        {
          "output_type": "stream",
          "text": [
            "loss: 23.897340774536133\n",
            "shybinponm\n",
            "[60, 33, 52, 48, 61, 21, 56, 52, 21, 32]\n",
            "sulneraaer\n",
            "[31, 39, 35, 53, 50, 14, 29, 23, 50, 14]\n",
            "retomegero\n",
            "[14, 52, 23, 50, 14, 52, 22, 50, 14, 59]\n",
            "peiardhema\n",
            "[56, 49, 61, 29, 21, 48, 9, 50, 37, 29]\n",
            "tigintinte\n",
            "[56, 61, 40, 19, 21, 23, 61, 21, 48, 50]\n"
          ],
          "name": "stdout"
        },
        {
          "output_type": "stream",
          "text": [
            " 74%|███████▎  | 153/208 [00:10<00:03, 14.40it/s]"
          ],
          "name": "stderr"
        },
        {
          "output_type": "stream",
          "text": [
            "loss: 23.973764419555664\n",
            "ctotatovat\n",
            "[11, 23, 59, 37, 29, 23, 45, 40, 29, 23]\n",
            "Bigindoric\n",
            "[25, 19, 48, 19, 21, 48, 52, 37, 61, 11]\n",
            "prombejcer\n",
            "[56, 14, 52, 37, 16, 50, 43, 32, 59, 21]\n",
            "diwuedrase\n",
            "[20, 59, 37, 56, 52, 44, 14, 29, 60, 50]\n",
            "entamitppa\n",
            "[42, 21, 23, 29, 37, 19, 48, 3, 56, 29]\n"
          ],
          "name": "stdout"
        },
        {
          "output_type": "stream",
          "text": [
            " 98%|█████████▊| 203/208 [00:13<00:00, 14.87it/s]"
          ],
          "name": "stderr"
        },
        {
          "output_type": "stream",
          "text": [
            "loss: 23.922351837158203\n",
            "sfolycannu\n",
            "[54, 58, 59, 53, 52, 11, 29, 21, 48, 50]\n",
            "Barantiang\n",
            "[20, 52, 37, 29, 21, 23, 61, 29, 21, 22]\n",
            "unovemaler\n",
            "[42, 21, 52, 40, 50, 37, 29, 23, 50, 14]\n",
            "lonquactid\n",
            "[20, 59, 21, 13, 36, 29, 60, 23, 61, 48]\n",
            "testicarto\n",
            "[56, 52, 60, 23, 61, 11, 29, 21, 11, 59]\n"
          ],
          "name": "stdout"
        },
        {
          "output_type": "stream",
          "text": [
            "100%|██████████| 208/208 [00:14<00:00, 14.80it/s]\n"
          ],
          "name": "stderr"
        },
        {
          "output_type": "stream",
          "text": [
            "loss: 24.101062774658203\n",
            "porgupettm\n",
            "[56, 59, 21, 22, 39, 56, 50, 23, 23, 15]\n"
          ],
          "name": "stdout"
        },
        {
          "output_type": "stream",
          "text": [
            "\r  0%|          | 0/208 [00:00<?, ?it/s]"
          ],
          "name": "stderr"
        },
        {
          "output_type": "stream",
          "text": [
            "========= Results: epoch 3 of 10 =========\n",
            "train loss: 24.04| valid loss: 23.87\n",
            "\n",
            "========= Epoch 4 of 10 =========\n"
          ],
          "name": "stdout"
        },
        {
          "output_type": "stream",
          "text": [
            "  1%|▏         | 3/208 [00:00<00:48,  4.20it/s]"
          ],
          "name": "stderr"
        },
        {
          "output_type": "stream",
          "text": [
            "loss: 23.310888290405273\n",
            "sitelarves\n",
            "[37, 61, 48, 50, 35, 29, 43, 40, 50, 14]\n",
            "froscerseo\n",
            "[25, 49, 54, 60, 32, 50, 43, 60, 32, 59]\n",
            "docegellor\n",
            "[20, 19, 48, 52, 22, 50, 35, 53, 50, 14]\n",
            "slrAsancol\n",
            "[60, 23, 49, 54, 48, 29, 21, 11, 59, 53]\n",
            "oantassush\n",
            "[20, 29, 21, 23, 29, 60, 31, 39, 60, 9]\n"
          ],
          "name": "stdout"
        },
        {
          "output_type": "stream",
          "text": [
            " 25%|██▌       | 53/208 [00:03<00:10, 14.20it/s]"
          ],
          "name": "stderr"
        },
        {
          "output_type": "stream",
          "text": [
            "loss: 23.963918685913086\n",
            "wymanecean\n",
            "[34, 52, 37, 29, 48, 52, 23, 61, 29, 21]\n",
            "Chuhcstele\n",
            "[12, 9, 52, 33, 52, 60, 23, 50, 14, 52]\n",
            "rewmencuPm\n",
            "[37, 50, 43, 37, 50, 21, 11, 39, 15, 37]\n",
            "uneatwoGui\n",
            "[42, 21, 52, 29, 23, 49, 54, 13, 36, 19]\n",
            "burslemere\n",
            "[20, 39, 43, 60, 53, 52, 37, 50, 14, 52]\n"
          ],
          "name": "stdout"
        },
        {
          "output_type": "stream",
          "text": [
            " 50%|████▉     | 103/208 [00:07<00:07, 14.88it/s]"
          ],
          "name": "stderr"
        },
        {
          "output_type": "stream",
          "text": [
            "loss: 23.50936508178711\n",
            "manerbened\n",
            "[20, 29, 21, 50, 43, 16, 59, 37, 50, 44]\n",
            "agdricalos\n",
            "[54, 26, 22, 49, 61, 11, 29, 53, 52, 60]\n",
            "utcantedra\n",
            "[42, 21, 11, 59, 21, 23, 52, 22, 49, 29]\n",
            "honctermis\n",
            "[20, 59, 21, 11, 23, 50, 43, 37, 19, 60]\n",
            "rymichagat\n",
            "[14, 52, 37, 61, 11, 9, 29, 22, 50, 23]\n"
          ],
          "name": "stdout"
        },
        {
          "output_type": "stream",
          "text": [
            " 74%|███████▎  | 153/208 [00:10<00:03, 14.39it/s]"
          ],
          "name": "stderr"
        },
        {
          "output_type": "stream",
          "text": [
            "loss: 23.392898559570312\n",
            "rysgastang\n",
            "[14, 52, 60, 17, 29, 60, 23, 29, 21, 22]\n",
            "aswcereeri\n",
            "[54, 60, 61, 48, 50, 14, 52, 50, 14, 61]\n",
            "tawwleunol\n",
            "[56, 29, 60, 32, 53, 52, 27, 48, 29, 35]\n",
            "mepcormian\n",
            "[20, 52, 3, 56, 59, 43, 32, 61, 29, 21]\n",
            "ctatiskati\n",
            "[11, 23, 29, 23, 61, 60, 32, 29, 23, 61]\n"
          ],
          "name": "stdout"
        },
        {
          "output_type": "stream",
          "text": [
            " 98%|█████████▊| 203/208 [00:13<00:00, 14.38it/s]"
          ],
          "name": "stderr"
        },
        {
          "output_type": "stream",
          "text": [
            "loss: 23.561634063720703\n",
            "lmnoloulad\n",
            "[42, 15, 37, 59, 14, 45, 39, 35, 29, 48]\n",
            "fueiyloesi\n",
            "[31, 39, 43, 51, 52, 22, 52, 54, 60, 61]\n",
            "chertratra\n",
            "[11, 9, 50, 43, 23, 14, 29, 23, 49, 54]\n",
            "hyacrepage\n",
            "[33, 52, 29, 11, 14, 52, 56, 29, 22, 50]\n",
            "opphertetn\n",
            "[54, 3, 3, 9, 52, 21, 23, 61, 23, 21]\n"
          ],
          "name": "stdout"
        },
        {
          "output_type": "stream",
          "text": [
            "100%|██████████| 208/208 [00:14<00:00, 14.78it/s]\n"
          ],
          "name": "stderr"
        },
        {
          "output_type": "stream",
          "text": [
            "loss: 23.406665802001953\n",
            "antetepyry\n",
            "[42, 21, 48, 52, 11, 52, 3, 52, 14, 52]\n"
          ],
          "name": "stdout"
        },
        {
          "output_type": "stream",
          "text": [
            "\r  0%|          | 0/208 [00:00<?, ?it/s]"
          ],
          "name": "stderr"
        },
        {
          "output_type": "stream",
          "text": [
            "========= Results: epoch 4 of 10 =========\n",
            "train loss: 23.72| valid loss: 23.66\n",
            "\n",
            "========= Epoch 5 of 10 =========\n"
          ],
          "name": "stdout"
        },
        {
          "output_type": "stream",
          "text": [
            "  1%|▏         | 3/208 [00:00<00:44,  4.62it/s]"
          ],
          "name": "stderr"
        },
        {
          "output_type": "stream",
          "text": [
            "loss: 23.822376251220703\n",
            "Tuwurarixa\n",
            "[20, 59, 37, 59, 37, 29, 43, 19, 48, 29]\n",
            "neritelat-\n",
            "[20, 50, 43, 19, 48, 50, 35, 29, 23, 29]\n",
            "Tiantfwhlo\n",
            "[20, 19, 29, 21, 11, 57, 12, 9, 53, 52]\n",
            "Malloeshoc\n",
            "[20, 29, 35, 53, 52, 54, 60, 9, 52, 11]\n",
            "dolalasten\n",
            "[20, 59, 14, 52, 53, 52, 60, 23, 50, 21]\n"
          ],
          "name": "stdout"
        },
        {
          "output_type": "stream",
          "text": [
            " 25%|██▌       | 53/208 [00:03<00:10, 14.70it/s]"
          ],
          "name": "stderr"
        },
        {
          "output_type": "stream",
          "text": [
            "loss: 23.547645568847656\n",
            "Phyfloquia\n",
            "[12, 9, 52, 22, 53, 52, 13, 36, 19, 29]\n",
            "ectantiTat\n",
            "[54, 11, 23, 59, 21, 23, 61, 48, 29, 23]\n",
            "odlustannc\n",
            "[54, 27, 14, 52, 60, 23, 29, 21, 21, 11]\n",
            "acaryreidl\n",
            "[54, 11, 59, 14, 52, 37, 61, 21, 22, 53]\n",
            "ratcethell\n",
            "[14, 52, 60, 23, 50, 23, 9, 52, 35, 53]\n"
          ],
          "name": "stdout"
        },
        {
          "output_type": "stream",
          "text": [
            " 50%|████▉     | 103/208 [00:07<00:07, 14.27it/s]"
          ],
          "name": "stderr"
        },
        {
          "output_type": "stream",
          "text": [
            "loss: 23.812715530395508\n",
            "trLceungop\n",
            "[56, 14, 61, 11, 52, 42, 21, 22, 59, 3]\n",
            "aperkishys\n",
            "[54, 3, 50, 43, 57, 19, 60, 9, 52, 60]\n",
            "septhwoxig\n",
            "[20, 59, 3, 23, 9, 0, 59, 37, 61, 26]\n",
            "zorantsore\n",
            "[20, 59, 14, 29, 21, 60, 32, 59, 43, 50]\n",
            "dofleniaba\n",
            "[20, 52, 62, 53, 52, 37, 19, 29, 38, 59]\n"
          ],
          "name": "stdout"
        },
        {
          "output_type": "stream",
          "text": [
            " 74%|███████▎  | 153/208 [00:10<00:03, 14.17it/s]"
          ],
          "name": "stderr"
        },
        {
          "output_type": "stream",
          "text": [
            "loss: 23.58541488647461\n",
            "quiablarai\n",
            "[13, 36, 19, 29, 38, 53, 29, 43, 29, 7]\n",
            "ranteiishu\n",
            "[31, 42, 21, 23, 50, 35, 19, 60, 9, 59]\n",
            "hidlopenad\n",
            "[33, 52, 44, 53, 52, 56, 50, 21, 54, 44]\n",
            "acovagungn\n",
            "[54, 11, 59, 40, 29, 28, 42, 21, 22, 53]\n",
            "poplyissou\n",
            "[56, 59, 3, 53, 52, 19, 60, 32, 45, 39]\n"
          ],
          "name": "stdout"
        },
        {
          "output_type": "stream",
          "text": [
            " 98%|█████████▊| 203/208 [00:13<00:00, 14.30it/s]"
          ],
          "name": "stderr"
        },
        {
          "output_type": "stream",
          "text": [
            "loss: 23.362699508666992\n",
            "eutigxisth\n",
            "[54, 27, 23, 61, 26, 37, 19, 60, 23, 9]\n",
            "wivyrocyll\n",
            "[20, 61, 40, 50, 14, 29, 11, 7, 35, 35]\n",
            "purrlescer\n",
            "[56, 39, 43, 22, 53, 52, 60, 23, 50, 43]\n",
            "sweridater\n",
            "[31, 0, 59, 43, 19, 48, 29, 23, 50, 43]\n",
            "herystindy\n",
            "[33, 50, 14, 52, 60, 23, 61, 21, 48, 52]\n"
          ],
          "name": "stdout"
        },
        {
          "output_type": "stream",
          "text": [
            "100%|██████████| 208/208 [00:14<00:00, 14.79it/s]\n"
          ],
          "name": "stderr"
        },
        {
          "output_type": "stream",
          "text": [
            "loss: 23.546817779541016\n",
            "susmleptya\n",
            "[31, 39, 60, 32, 53, 52, 3, 23, 52, 54]\n"
          ],
          "name": "stdout"
        },
        {
          "output_type": "stream",
          "text": [
            "\r  0%|          | 0/208 [00:00<?, ?it/s]"
          ],
          "name": "stderr"
        },
        {
          "output_type": "stream",
          "text": [
            "========= Results: epoch 5 of 10 =========\n",
            "train loss: 23.55| valid loss: 23.53\n",
            "\n",
            "========= Epoch 6 of 10 =========\n"
          ],
          "name": "stdout"
        },
        {
          "output_type": "stream",
          "text": [
            "  1%|▏         | 3/208 [00:00<00:46,  4.41it/s]"
          ],
          "name": "stderr"
        },
        {
          "output_type": "stream",
          "text": [
            "loss: 23.335289001464844\n",
            "iiayischyr\n",
            "[41, 19, 29, 52, 19, 60, 11, 9, 52, 14]\n",
            "tesishepry\n",
            "[20, 54, 60, 19, 60, 9, 52, 56, 14, 52]\n",
            "upryrechni\n",
            "[42, 56, 14, 52, 14, 52, 11, 9, 37, 19]\n",
            "wonerpgaza\n",
            "[20, 59, 37, 50, 43, 3, 17, 29, 48, 29]\n",
            "untumunamb\n",
            "[42, 21, 23, 27, 18, 42, 21, 29, 15, 16]\n"
          ],
          "name": "stdout"
        },
        {
          "output_type": "stream",
          "text": [
            " 25%|██▌       | 53/208 [00:03<00:10, 14.13it/s]"
          ],
          "name": "stderr"
        },
        {
          "output_type": "stream",
          "text": [
            "loss: 23.553653717041016\n",
            "snesichils\n",
            "[31, 53, 52, 60, 19, 23, 9, 7, 35, 37]\n",
            "shilispern\n",
            "[60, 9, 7, 35, 19, 60, 32, 50, 43, 37]\n",
            "suwestiorv\n",
            "[31, 27, 37, 52, 60, 23, 61, 59, 43, 40]\n",
            "atolnetull\n",
            "[29, 23, 59, 35, 53, 52, 23, 39, 35, 53]\n",
            "coregueten\n",
            "[20, 59, 14, 52, 22, 36, 19, 48, 50, 21]\n"
          ],
          "name": "stdout"
        },
        {
          "output_type": "stream",
          "text": [
            " 50%|████▉     | 103/208 [00:07<00:07, 14.26it/s]"
          ],
          "name": "stderr"
        },
        {
          "output_type": "stream",
          "text": [
            "loss: 23.50783920288086\n",
            "psouscater\n",
            "[56, 14, 45, 39, 60, 23, 29, 23, 50, 14]\n",
            "soriirousq\n",
            "[20, 59, 37, 19, 47, 14, 45, 39, 60, 13]\n",
            "lalotiosat\n",
            "[34, 29, 35, 29, 23, 61, 59, 37, 52, 23]\n",
            "chooguaxti\n",
            "[11, 9, 59, 59, 26, 36, 29, 21, 23, 61]\n",
            "Caubeliric\n",
            "[20, 29, 27, 37, 29, 35, 19, 14, 61, 41]\n"
          ],
          "name": "stdout"
        },
        {
          "output_type": "stream",
          "text": [
            " 74%|███████▎  | 153/208 [00:10<00:03, 14.69it/s]"
          ],
          "name": "stderr"
        },
        {
          "output_type": "stream",
          "text": [
            "loss: 23.355899810791016\n",
            "mutedpundi\n",
            "[20, 27, 23, 50, 44, 41, 42, 21, 48, 19]\n",
            "unresepent\n",
            "[42, 21, 14, 52, 60, 52, 3, 50, 21, 48]\n",
            "potedlebro\n",
            "[56, 52, 23, 50, 44, 53, 52, 55, 49, 59]\n",
            "mesconerad\n",
            "[20, 19, 60, 23, 61, 37, 59, 43, 29, 22]\n",
            "prangecrys\n",
            "[56, 14, 29, 21, 22, 52, 11, 14, 52, 37]\n"
          ],
          "name": "stdout"
        },
        {
          "output_type": "stream",
          "text": [
            " 98%|█████████▊| 203/208 [00:13<00:00, 14.34it/s]"
          ],
          "name": "stderr"
        },
        {
          "output_type": "stream",
          "text": [
            "loss: 23.536277770996094\n",
            "Antrianges\n",
            "[42, 21, 23, 49, 19, 29, 21, 22, 52, 60]\n",
            "dosmidoner\n",
            "[20, 52, 60, 32, 19, 48, 50, 21, 54, 43]\n",
            "tryloblegi\n",
            "[25, 49, 52, 53, 52, 55, 49, 54, 11, 19]\n",
            "slyopowert\n",
            "[31, 53, 52, 54, 3, 52, 0, 50, 43, 23]\n",
            "lamorlossw\n",
            "[20, 52, 37, 59, 43, 14, 52, 60, 32, 0]\n"
          ],
          "name": "stdout"
        },
        {
          "output_type": "stream",
          "text": [
            "100%|██████████| 208/208 [00:14<00:00, 14.80it/s]\n"
          ],
          "name": "stderr"
        },
        {
          "output_type": "stream",
          "text": [
            "loss: 23.495555877685547\n",
            "screjurmic\n",
            "[31, 11, 14, 52, 10, 27, 14, 37, 19, 48]\n"
          ],
          "name": "stdout"
        },
        {
          "output_type": "stream",
          "text": [
            "\r  0%|          | 0/208 [00:00<?, ?it/s]"
          ],
          "name": "stderr"
        },
        {
          "output_type": "stream",
          "text": [
            "========= Results: epoch 6 of 10 =========\n",
            "train loss: 23.44| valid loss: 23.43\n",
            "\n",
            "========= Epoch 7 of 10 =========\n"
          ],
          "name": "stdout"
        },
        {
          "output_type": "stream",
          "text": [
            "  1%|▏         | 3/208 [00:00<00:44,  4.58it/s]"
          ],
          "name": "stderr"
        },
        {
          "output_type": "stream",
          "text": [
            "loss: 23.401981353759766\n",
            "catrourequ\n",
            "[20, 29, 23, 49, 54, 27, 14, 52, 13, 36]\n",
            "Exalistife\n",
            "[42, 21, 29, 35, 19, 60, 23, 61, 58, 50]\n",
            "ivenitiora\n",
            "[54, 40, 50, 21, 19, 23, 61, 59, 37, 29]\n",
            "micaramaJi\n",
            "[20, 61, 11, 29, 43, 29, 37, 29, 58, 19]\n",
            "bydionatea\n",
            "[51, 50, 44, 61, 59, 21, 19, 48, 52, 54]\n"
          ],
          "name": "stdout"
        },
        {
          "output_type": "stream",
          "text": [
            " 25%|██▌       | 53/208 [00:03<00:10, 14.46it/s]"
          ],
          "name": "stderr"
        },
        {
          "output_type": "stream",
          "text": [
            "loss: 23.47461700439453\n",
            "cophoninyw\n",
            "[11, 59, 3, 9, 59, 37, 19, 48, 52, 0]\n",
            "plergidedi\n",
            "[56, 14, 52, 21, 22, 19, 48, 50, 44, 19]\n",
            "demorcicon\n",
            "[20, 52, 37, 59, 43, 23, 61, 11, 59, 37]\n",
            "sephontedo\n",
            "[31, 52, 60, 9, 59, 21, 23, 50, 44, 59]\n",
            "chenkethio\n",
            "[11, 33, 50, 21, 57, 50, 23, 9, 61, 29]\n"
          ],
          "name": "stdout"
        },
        {
          "output_type": "stream",
          "text": [
            " 50%|████▉     | 103/208 [00:07<00:07, 14.96it/s]"
          ],
          "name": "stderr"
        },
        {
          "output_type": "stream",
          "text": [
            "loss: 22.983810424804688\n",
            "spuclyytoa\n",
            "[31, 56, 52, 22, 53, 52, 52, 23, 59, 59]\n",
            "ingompeliz\n",
            "[42, 21, 22, 59, 15, 56, 50, 35, 19, 48]\n",
            "rodderlive\n",
            "[49, 54, 44, 22, 50, 43, 53, 61, 40, 50]\n",
            "molintorct\n",
            "[20, 54, 35, 19, 21, 23, 59, 43, 11, 23]\n",
            "chonelanis\n",
            "[12, 9, 61, 53, 52, 53, 52, 37, 19, 48]\n"
          ],
          "name": "stdout"
        },
        {
          "output_type": "stream",
          "text": [
            " 74%|███████▎  | 153/208 [00:10<00:03, 14.76it/s]"
          ],
          "name": "stderr"
        },
        {
          "output_type": "stream",
          "text": [
            "loss: 23.47952651977539\n",
            "luloitmena\n",
            "[20, 7, 35, 45, 19, 60, 18, 50, 21, 29]\n",
            "dedaificke\n",
            "[20, 52, 37, 29, 19, 58, 61, 11, 57, 50]\n",
            "anititivea\n",
            "[42, 21, 61, 48, 19, 48, 52, 40, 50, 29]\n",
            "cuslictfun\n",
            "[11, 39, 32, 53, 61, 11, 23, 41, 42, 21]\n",
            "helatiplud\n",
            "[20, 54, 35, 29, 23, 61, 3, 53, 52, 37]\n"
          ],
          "name": "stdout"
        },
        {
          "output_type": "stream",
          "text": [
            " 98%|█████████▊| 203/208 [00:13<00:00, 14.76it/s]"
          ],
          "name": "stderr"
        },
        {
          "output_type": "stream",
          "text": [
            "loss: 23.140419006347656\n",
            "bralomagei\n",
            "[55, 49, 54, 35, 45, 37, 29, 1, 52, 19]\n",
            "Erydnyrhic\n",
            "[25, 14, 52, 44, 53, 17, 12, 9, 61, 11]\n",
            "ZaculllVoh\n",
            "[20, 59, 11, 39, 35, 35, 53, 6, 59, 33]\n",
            "trumyerlip\n",
            "[56, 14, 39, 15, 17, 50, 43, 53, 61, 3]\n",
            "ruitampolr\n",
            "[13, 36, 19, 56, 29, 15, 3, 59, 35, 53]\n"
          ],
          "name": "stdout"
        },
        {
          "output_type": "stream",
          "text": [
            "100%|██████████| 208/208 [00:14<00:00, 14.83it/s]\n"
          ],
          "name": "stderr"
        },
        {
          "output_type": "stream",
          "text": [
            "loss: 23.1785945892334\n",
            "ovinarmege\n",
            "[54, 40, 19, 48, 29, 43, 37, 29, 22, 52]\n"
          ],
          "name": "stdout"
        },
        {
          "output_type": "stream",
          "text": [
            "\r  0%|          | 0/208 [00:00<?, ?it/s]"
          ],
          "name": "stderr"
        },
        {
          "output_type": "stream",
          "text": [
            "========= Results: epoch 7 of 10 =========\n",
            "train loss: 23.35| valid loss: 23.35\n",
            "\n",
            "========= Epoch 8 of 10 =========\n"
          ],
          "name": "stdout"
        },
        {
          "output_type": "stream",
          "text": [
            "  1%|▏         | 3/208 [00:00<00:45,  4.53it/s]"
          ],
          "name": "stderr"
        },
        {
          "output_type": "stream",
          "text": [
            "loss: 23.04974365234375\n",
            "daSytatana\n",
            "[20, 59, 53, 52, 56, 29, 48, 29, 21, 29]\n",
            "indosetckg\n",
            "[42, 21, 44, 59, 31, 52, 60, 11, 57, 1]\n",
            "knitervers\n",
            "[42, 21, 19, 48, 50, 43, 40, 50, 43, 32]\n",
            "sulHberian\n",
            "[31, 39, 35, 19, 47, 50, 43, 19, 29, 21]\n",
            "meaphiUant\n",
            "[20, 52, 54, 3, 9, 61, 37, 59, 21, 23]\n"
          ],
          "name": "stdout"
        },
        {
          "output_type": "stream",
          "text": [
            " 25%|██▌       | 53/208 [00:03<00:10, 14.32it/s]"
          ],
          "name": "stderr"
        },
        {
          "output_type": "stream",
          "text": [
            "loss: 23.460845947265625\n",
            "bratsandew\n",
            "[55, 49, 29, 23, 32, 29, 21, 22, 52, 56]\n",
            "jonOthosse\n",
            "[20, 59, 37, 29, 23, 9, 52, 60, 32, 52]\n",
            "Tewaelvere\n",
            "[20, 52, 0, 29, 50, 35, 40, 50, 43, 50]\n",
            "panventebo\n",
            "[56, 29, 21, 40, 50, 21, 23, 50, 38, 59]\n",
            "calllccink\n",
            "[20, 29, 35, 35, 35, 11, 11, 19, 21, 57]\n"
          ],
          "name": "stdout"
        },
        {
          "output_type": "stream",
          "text": [
            " 50%|████▉     | 103/208 [00:07<00:07, 14.11it/s]"
          ],
          "name": "stderr"
        },
        {
          "output_type": "stream",
          "text": [
            "loss: 23.10556411743164\n",
            "Sinecogles\n",
            "[20, 61, 37, 19, 48, 52, 22, 53, 52, 60]\n",
            "wakundenth\n",
            "[34, 29, 28, 42, 21, 48, 52, 21, 23, 33]\n",
            "sproctinse\n",
            "[31, 56, 49, 54, 11, 23, 61, 21, 32, 50]\n",
            "spereniogr\n",
            "[31, 56, 50, 14, 52, 37, 19, 29, 1, 43]\n",
            "semalalatr\n",
            "[31, 54, 37, 29, 35, 29, 35, 29, 23, 49]\n"
          ],
          "name": "stdout"
        },
        {
          "output_type": "stream",
          "text": [
            " 74%|███████▎  | 153/208 [00:10<00:03, 13.99it/s]"
          ],
          "name": "stderr"
        },
        {
          "output_type": "stream",
          "text": [
            "loss: 22.967063903808594\n",
            "epoulodyat\n",
            "[54, 3, 45, 39, 35, 45, 48, 17, 29, 23]\n",
            "ebssernaer\n",
            "[54, 16, 60, 23, 50, 43, 37, 29, 52, 14]\n",
            "Meascomuch\n",
            "[20, 52, 54, 60, 23, 45, 18, 27, 11, 9]\n",
            "cromicenon\n",
            "[11, 49, 59, 37, 19, 48, 52, 37, 59, 37]\n",
            "dialddfula\n",
            "[20, 19, 29, 35, 44, 44, 62, 39, 35, 29]\n"
          ],
          "name": "stdout"
        },
        {
          "output_type": "stream",
          "text": [
            " 98%|█████████▊| 203/208 [00:13<00:00, 14.81it/s]"
          ],
          "name": "stderr"
        },
        {
          "output_type": "stream",
          "text": [
            "loss: 23.592716217041016\n",
            "cipulperdc\n",
            "[20, 61, 41, 42, 21, 56, 59, 43, 44, 11]\n",
            "suloiansfr\n",
            "[31, 39, 35, 45, 19, 29, 21, 32, 25, 14]\n",
            "pwivuryssi\n",
            "[56, 0, 61, 40, 7, 14, 52, 60, 32, 61]\n",
            "damemoitab\n",
            "[20, 29, 37, 52, 15, 45, 19, 48, 29, 38]\n",
            "porerthomn\n",
            "[3, 59, 43, 50, 43, 12, 9, 59, 37, 53]\n"
          ],
          "name": "stdout"
        },
        {
          "output_type": "stream",
          "text": [
            "100%|██████████| 208/208 [00:14<00:00, 14.75it/s]\n"
          ],
          "name": "stderr"
        },
        {
          "output_type": "stream",
          "text": [
            "loss: 23.200260162353516\n",
            "sulinosser\n",
            "[31, 39, 35, 19, 21, 52, 60, 32, 50, 43]\n"
          ],
          "name": "stdout"
        },
        {
          "output_type": "stream",
          "text": [
            "\r  0%|          | 0/208 [00:00<?, ?it/s]"
          ],
          "name": "stderr"
        },
        {
          "output_type": "stream",
          "text": [
            "========= Results: epoch 8 of 10 =========\n",
            "train loss: 23.29| valid loss: 23.29\n",
            "\n",
            "========= Epoch 9 of 10 =========\n"
          ],
          "name": "stdout"
        },
        {
          "output_type": "stream",
          "text": [
            "  1%|▏         | 3/208 [00:00<00:44,  4.64it/s]"
          ],
          "name": "stderr"
        },
        {
          "output_type": "stream",
          "text": [
            "loss: 23.086050033569336\n",
            "seatuedasi\n",
            "[31, 52, 29, 23, 36, 52, 44, 59, 37, 19]\n",
            "lalocolice\n",
            "[20, 54, 35, 59, 11, 59, 35, 19, 48, 52]\n",
            "inverlesca\n",
            "[42, 21, 40, 50, 43, 53, 52, 60, 11, 29]\n",
            "donctabyli\n",
            "[20, 59, 21, 11, 23, 29, 38, 7, 35, 19]\n",
            "tonneoomme\n",
            "[56, 59, 21, 53, 52, 54, 7, 15, 18, 50]\n"
          ],
          "name": "stdout"
        },
        {
          "output_type": "stream",
          "text": [
            " 25%|██▌       | 53/208 [00:03<00:10, 14.31it/s]"
          ],
          "name": "stderr"
        },
        {
          "output_type": "stream",
          "text": [
            "loss: 23.360929489135742\n",
            "serptoucka\n",
            "[31, 29, 43, 3, 23, 45, 39, 11, 57, 29]\n",
            "dmediPineb\n",
            "[22, 18, 50, 44, 61, 37, 61, 37, 29, 38]\n",
            "tensushest\n",
            "[56, 50, 21, 31, 39, 32, 9, 52, 60, 56]\n",
            "coreatimor\n",
            "[20, 59, 37, 52, 29, 23, 61, 37, 59, 43]\n",
            "gAplomalin\n",
            "[20, 54, 3, 53, 52, 18, 29, 35, 19, 21]\n"
          ],
          "name": "stdout"
        },
        {
          "output_type": "stream",
          "text": [
            " 50%|████▉     | 103/208 [00:07<00:07, 14.35it/s]"
          ],
          "name": "stderr"
        },
        {
          "output_type": "stream",
          "text": [
            "loss: 23.229515075683594\n",
            "dommizerox\n",
            "[20, 7, 15, 18, 19, 48, 50, 43, 45, 22]\n",
            "chinckirio\n",
            "[12, 9, 19, 21, 11, 57, 7, 43, 19, 45]\n",
            "ingidobign\n",
            "[42, 21, 22, 19, 48, 52, 8, 61, 26, 37]\n",
            "Inchapentr\n",
            "[42, 21, 11, 9, 29, 3, 52, 21, 23, 14]\n",
            "corvoxtita\n",
            "[20, 59, 43, 40, 59, 21, 23, 61, 48, 29]\n"
          ],
          "name": "stdout"
        },
        {
          "output_type": "stream",
          "text": [
            " 74%|███████▎  | 153/208 [00:10<00:03, 14.94it/s]"
          ],
          "name": "stderr"
        },
        {
          "output_type": "stream",
          "text": [
            "loss: 23.115970611572266\n",
            "shatengmal\n",
            "[12, 9, 29, 23, 50, 21, 22, 18, 59, 53]\n",
            "agerablecs\n",
            "[54, 26, 50, 43, 29, 38, 53, 52, 60, 32]\n",
            "bettinnalp\n",
            "[8, 52, 23, 23, 61, 48, 37, 29, 35, 3]\n",
            "arvervedri\n",
            "[54, 43, 40, 50, 43, 40, 50, 44, 14, 61]\n",
            "satiltiont\n",
            "[31, 29, 23, 7, 35, 23, 61, 59, 21, 23]\n"
          ],
          "name": "stdout"
        },
        {
          "output_type": "stream",
          "text": [
            " 98%|█████████▊| 203/208 [00:13<00:00, 14.14it/s]"
          ],
          "name": "stderr"
        },
        {
          "output_type": "stream",
          "text": [
            "loss: 23.269947052001953\n",
            "Mutrinesti\n",
            "[20, 27, 23, 49, 61, 37, 52, 60, 23, 61]\n",
            "Miatoguian\n",
            "[20, 19, 29, 11, 45, 13, 36, 19, 29, 21]\n",
            "nisherpher\n",
            "[20, 19, 60, 9, 29, 43, 12, 9, 7, 14]\n",
            "sUquuspedu\n",
            "[31, 54, 13, 36, 52, 60, 32, 50, 44, 27]\n",
            "peneclerbo\n",
            "[56, 52, 37, 52, 11, 53, 50, 43, 24, 59]\n"
          ],
          "name": "stdout"
        },
        {
          "output_type": "stream",
          "text": [
            "100%|██████████| 208/208 [00:14<00:00, 14.83it/s]\n"
          ],
          "name": "stderr"
        },
        {
          "output_type": "stream",
          "text": [
            "loss: 23.198766708374023\n",
            "unvealiayt\n",
            "[42, 21, 40, 50, 29, 35, 19, 29, 52, 23]\n"
          ],
          "name": "stdout"
        },
        {
          "output_type": "stream",
          "text": [
            "\r  0%|          | 0/208 [00:00<?, ?it/s]"
          ],
          "name": "stderr"
        },
        {
          "output_type": "stream",
          "text": [
            "========= Results: epoch 9 of 10 =========\n",
            "train loss: 23.22| valid loss: 23.23\n",
            "\n",
            "========= Epoch 10 of 10 =========\n"
          ],
          "name": "stdout"
        },
        {
          "output_type": "stream",
          "text": [
            "  1%|▏         | 3/208 [00:00<00:43,  4.69it/s]"
          ],
          "name": "stderr"
        },
        {
          "output_type": "stream",
          "text": [
            "loss: 23.117088317871094\n",
            "dorinestou\n",
            "[20, 59, 43, 19, 21, 52, 60, 23, 45, 39]\n",
            "bravicahle\n",
            "[55, 49, 54, 40, 61, 11, 29, 9, 53, 52]\n",
            "purymymier\n",
            "[56, 39, 43, 17, 15, 17, 18, 19, 50, 43]\n",
            "policanint\n",
            "[56, 7, 35, 19, 48, 29, 37, 19, 21, 23]\n",
            "amumommvyo\n",
            "[54, 15, 39, 37, 59, 15, 18, 40, 50, 45]\n"
          ],
          "name": "stdout"
        },
        {
          "output_type": "stream",
          "text": [
            " 25%|██▌       | 53/208 [00:03<00:11, 13.94it/s]"
          ],
          "name": "stderr"
        },
        {
          "output_type": "stream",
          "text": [
            "loss: 23.243858337402344\n",
            "emephonema\n",
            "[54, 37, 52, 3, 9, 54, 37, 52, 18, 29]\n",
            "chesmalcil\n",
            "[12, 9, 52, 60, 18, 29, 35, 11, 7, 35]\n",
            "dessatatry\n",
            "[20, 52, 60, 32, 29, 23, 29, 23, 14, 52]\n",
            "entionimir\n",
            "[42, 21, 23, 61, 59, 37, 19, 37, 50, 43]\n",
            "Mutistilet\n",
            "[20, 27, 23, 61, 60, 23, 61, 53, 52, 23]\n"
          ],
          "name": "stdout"
        },
        {
          "output_type": "stream",
          "text": [
            " 50%|████▉     | 103/208 [00:07<00:07, 14.42it/s]"
          ],
          "name": "stderr"
        },
        {
          "output_type": "stream",
          "text": [
            "loss: 22.98015022277832\n",
            "cessiconri\n",
            "[20, 52, 60, 32, 61, 11, 59, 21, 14, 19]\n",
            "suslollmat\n",
            "[31, 39, 32, 53, 52, 35, 35, 18, 29, 23]\n",
            "ouretiomed\n",
            "[54, 27, 14, 52, 23, 61, 59, 37, 50, 44]\n",
            "aptsechere\n",
            "[54, 3, 23, 31, 52, 11, 9, 50, 14, 52]\n",
            "averebopar\n",
            "[54, 40, 50, 14, 52, 24, 59, 3, 29, 43]\n"
          ],
          "name": "stdout"
        },
        {
          "output_type": "stream",
          "text": [
            " 74%|███████▎  | 153/208 [00:10<00:03, 14.57it/s]"
          ],
          "name": "stderr"
        },
        {
          "output_type": "stream",
          "text": [
            "loss: 23.266876220703125\n",
            "unzesticed\n",
            "[42, 21, 48, 52, 60, 23, 61, 48, 52, 37]\n",
            "Ninglulemi\n",
            "[20, 19, 21, 22, 49, 27, 14, 52, 18, 19]\n",
            "hipanveseg\n",
            "[20, 19, 48, 29, 21, 40, 50, 14, 52, 34]\n",
            "inpertheco\n",
            "[42, 21, 32, 50, 43, 23, 33, 52, 11, 49]\n",
            "hequalicec\n",
            "[33, 52, 13, 36, 29, 35, 19, 11, 52, 11]\n"
          ],
          "name": "stdout"
        },
        {
          "output_type": "stream",
          "text": [
            " 98%|█████████▊| 203/208 [00:13<00:00, 14.69it/s]"
          ],
          "name": "stderr"
        },
        {
          "output_type": "stream",
          "text": [
            "loss: 23.194381713867188\n",
            "jeassisico\n",
            "[20, 52, 54, 60, 32, 61, 37, 19, 11, 59]\n",
            "brouroster\n",
            "[55, 49, 54, 27, 14, 45, 31, 56, 50, 43]\n",
            "guaBerinal\n",
            "[13, 36, 29, 23, 50, 43, 19, 48, 29, 35]\n",
            "nerigesoch\n",
            "[20, 50, 43, 19, 1, 52, 60, 59, 11, 9]\n",
            "bricoyatre\n",
            "[55, 49, 61, 11, 59, 37, 29, 23, 14, 52]\n"
          ],
          "name": "stdout"
        },
        {
          "output_type": "stream",
          "text": [
            "100%|██████████| 208/208 [00:13<00:00, 14.90it/s]\n"
          ],
          "name": "stderr"
        },
        {
          "output_type": "stream",
          "text": [
            "loss: 23.0813045501709\n",
            "dafletinte\n",
            "[20, 54, 58, 53, 52, 23, 61, 21, 23, 50]\n",
            "========= Results: epoch 10 of 10 =========\n",
            "train loss: 23.18| valid loss: 23.19\n",
            "\n"
          ],
          "name": "stdout"
        }
      ]
    },
    {
      "cell_type": "markdown",
      "metadata": {
        "id": "zymBj9QrDHRM"
      },
      "source": [
        "You may wish to try different values of $N$ and see what the impact on sample quality is."
      ]
    },
    {
      "cell_type": "code",
      "metadata": {
        "id": "auBibYUTtIom",
        "colab": {
          "base_uri": "https://localhost:8080/"
        },
        "outputId": "ad9f161c-21dc-40a6-ce30-759d9c40c606"
      },
      "source": [
        "x = torch.tensor(encode(\"quack\")).unsqueeze(0)\n",
        "T = torch.tensor([5])\n",
        "print(model.viterbi(x,T))\n",
        "\n",
        "x = torch.tensor(encode(\"quick\")).unsqueeze(0)\n",
        "T = torch.tensor([5])\n",
        "print(model.viterbi(x,T))\n",
        "\n",
        "x = torch.tensor(encode(\"qurck\")).unsqueeze(0)\n",
        "T = torch.tensor([5])\n",
        "print(model.viterbi(x,T)) # should have lower probability---in English only vowels follow \"qu\"\n",
        "\n",
        "x = torch.tensor(encode(\"qiick\")).unsqueeze(0)\n",
        "T = torch.tensor([5])\n",
        "print(model.viterbi(x,T)) # should have lower probability---in English only \"u\" follows \"q\"\n"
      ],
      "execution_count": null,
      "outputs": [
        {
          "output_type": "stream",
          "text": [
            "([[13, 36, 29, 11, 57]], tensor([[-12.3761]], device='cuda:0', grad_fn=<GatherBackward>))\n",
            "([[13, 36, 19, 11, 57]], tensor([[-12.9984]], device='cuda:0', grad_fn=<GatherBackward>))\n",
            "([[13, 36, 43, 11, 57]], tensor([[-18.9938]], device='cuda:0', grad_fn=<GatherBackward>))\n",
            "([[13, 36, 19, 11, 57]], tensor([[-21.7014]], device='cuda:0', grad_fn=<GatherBackward>))\n"
          ],
          "name": "stdout"
        }
      ]
    },
    {
      "cell_type": "markdown",
      "metadata": {
        "id": "7eZeQXWjhDev"
      },
      "source": [
        "## Conclusion\n",
        "\n",
        "HMMs used to be very popular in natural language processing, but they have largely been overshadowed by neural network models like RNNs and Transformers. Still, it is fun and instructive to study the HMM; some commonly used machine learning techniques like [Connectionist Temporal Classification](https://www.cs.toronto.edu/~graves/icml_2006.pdf) are inspired by HMM methods. HMMs are [still used in conjunction with neural networks in speech recognition](https://arxiv.org/abs/1811.07453), where the assumption of a one-hot state makes sense for modelling phonemes, which are spoken one at a time."
      ]
    },
    {
      "cell_type": "markdown",
      "metadata": {
        "id": "gXQOBz5zqe10"
      },
      "source": [
        "## Acknowledgments\n",
        "\n",
        "This notebook is based partly on Lawrence Rabiner's excellent article \"[A Tutorial on Hidden Markov Models and Selected Applications in Speech Recognition](https://www.cs.cmu.edu/~cga/behavior/rabiner1.pdf)\", which you may also like to check out. Thanks also to Dima Serdyuk and Kyle Gorman for their feedback on the draft."
      ]
    }
  ]
}